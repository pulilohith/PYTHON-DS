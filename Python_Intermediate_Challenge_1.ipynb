{
  "cells": [
    {
      "cell_type": "markdown",
      "metadata": {
        "id": "yUKqJoZ2msDf"
      },
      "source": [
        "## <center><u>Python Intermediate Challenge-1</u></center>\n",
        "\n",
        "\n",
        "54% of the respondents from the O'Reilly Data Science Salary Survey indicated that they used Python as a data science tool. Nobody can deny that Python has been on the rise in the data science industry and it certainly seems that it's here to stay.\n",
        "This rise in popularity in the industry, the long gone infancy of Python packages for data analysis, the low and gradual learning curve and the fact that it is a fully fledged programming language are only a couple of reasons that make Python an exceptional tool for data science.\n",
        "Although Python is a very readable language, you might still be able to use some help.\n",
        "\n",
        "You will be facing some challenging questions on python in this assignment. Below following steps would help you to complete this assignment:\n",
        "\n",
        "`1. Read the question\n",
        "2. Go to the link given under the question\n",
        "3. You will land on Hakerrank page, if not then create your Hakerrank account.\n",
        "4. Once you land on hankerank page mentioned under question, go through the given problem carefully.\n",
        "5. Solve it in the editor given in the page. Select python3 as your language in the editor and click 'Run Code' Button\n",
        "6. Once you have passed all the sample test cases, write your solution in this assignment against each question.`\n",
        "\n",
        "\n",
        "If you need any assistence on python, then please refer below cheatsheets:\n",
        "\n",
        "Cheatsheet reference: http://datacamp-community-prod.s3.amazonaws.com/0eff0330-e87d-4c34-88d5-73e80cb955f2\n",
        "\n",
        "\n",
        "\n",
        "    "
      ]
    },
    {
      "cell_type": "markdown",
      "metadata": {
        "id": "wnd_yJnSmsDk"
      },
      "source": [
        "#### Q1 Python If-Else\n",
        "\n",
        "link - https://www.hackerrank.com/challenges/py-if-else/problem"
      ]
    },
    {
      "cell_type": "code",
      "execution_count": 4,
      "metadata": {
        "colab": {
          "base_uri": "https://localhost:8080/"
        },
        "id": "7UOrBJgQmsDl",
        "outputId": "e44cf6c2-ed6a-485f-995c-12a9991e3e0a"
      },
      "outputs": [
        {
          "output_type": "stream",
          "name": "stdout",
          "text": [
            "3\n",
            "Weird\n"
          ]
        }
      ],
      "source": [
        "\n",
        "def conditions(number):\n",
        "    if (number&1):\n",
        "        print(\"Weird\")\n",
        "    else:\n",
        "        if(2<=number<=5 or number>20):\n",
        "            print(\"Not Weird\")\n",
        "        else:\n",
        "            print(\"Weird\")\n",
        "\n",
        "\n",
        "\n",
        "if __name__ == '__main__':\n",
        "    n = int(input().strip())\n",
        "    conditions(n)\n"
      ]
    },
    {
      "cell_type": "markdown",
      "metadata": {
        "id": "tw635sI2msDm"
      },
      "source": [
        "#### Q2 Arithmetic Operators\n",
        "\n",
        "link - https://www.hackerrank.com/challenges/python-arithmetic-operators/problem"
      ]
    },
    {
      "cell_type": "code",
      "execution_count": 6,
      "metadata": {
        "colab": {
          "base_uri": "https://localhost:8080/"
        },
        "id": "N75L0QgrmsDm",
        "outputId": "36764d71-bef2-400b-94b1-c3963ce6cd12"
      },
      "outputs": [
        {
          "output_type": "stream",
          "name": "stdout",
          "text": [
            "2\n",
            "4\n",
            "6\n",
            "-2\n",
            "8\n"
          ]
        }
      ],
      "source": [
        "if __name__ == '__main__':\n",
        "    a = int(input())\n",
        "    b = int(input())\n",
        "    print(a+b)\n",
        "    print(a-b)\n",
        "    print(a*b)"
      ]
    },
    {
      "cell_type": "markdown",
      "metadata": {
        "id": "3aQl-vb7msDn"
      },
      "source": [
        "#### Q3 Print Function\n",
        "\n",
        "link - https://www.hackerrank.com/challenges/python-print/problem"
      ]
    },
    {
      "cell_type": "code",
      "execution_count": 7,
      "metadata": {
        "colab": {
          "base_uri": "https://localhost:8080/"
        },
        "id": "s44aO3nBmsDn",
        "outputId": "4aff6227-15dd-44e5-d3ac-4a1af46ea637"
      },
      "outputs": [
        {
          "output_type": "stream",
          "name": "stdout",
          "text": [
            "7\n",
            "1234567"
          ]
        }
      ],
      "source": [
        "\n",
        "if __name__ == '__main__':\n",
        "    n = int(input())\n",
        "    for i in range(1,n+1):\n",
        "        print(i,sep='',end='')"
      ]
    },
    {
      "cell_type": "markdown",
      "metadata": {
        "id": "UYJ1eZ2kmsDn"
      },
      "source": [
        "#### Q4 Write a function\n",
        "\n",
        "link - https://www.hackerrank.com/challenges/write-a-function/problem"
      ]
    },
    {
      "cell_type": "code",
      "execution_count": 8,
      "metadata": {
        "colab": {
          "base_uri": "https://localhost:8080/"
        },
        "id": "YbqnvxLJmsDo",
        "outputId": "33098cf4-6953-4b91-a324-8d9a67bf78bc"
      },
      "outputs": [
        {
          "output_type": "stream",
          "name": "stdout",
          "text": [
            "1980\n",
            "True\n"
          ]
        }
      ],
      "source": [
        "def is_leap(year):\n",
        "    if((year%4==0 and year%100!=0) or (year%4==0 and year%100==0 and year%400==0)):\n",
        "        return True\n",
        "    return False\n",
        "\n",
        "year = int(input())\n",
        "print(is_leap(year))"
      ]
    },
    {
      "cell_type": "markdown",
      "metadata": {
        "id": "B2LuEPRSmsDo"
      },
      "source": [
        "#### Q5 List Comprehensions\n",
        "\n",
        "link - https://www.hackerrank.com/challenges/list-comprehensions/problem"
      ]
    },
    {
      "cell_type": "code",
      "execution_count": 9,
      "metadata": {
        "colab": {
          "base_uri": "https://localhost:8080/"
        },
        "id": "P3wttU2xmsDp",
        "outputId": "b48d9e7e-eefc-42c5-b637-3397dc9160cf"
      },
      "outputs": [
        {
          "output_type": "stream",
          "name": "stdout",
          "text": [
            "5\n",
            "3\n",
            "2\n",
            "2\n",
            "[[0, 0, 0], [0, 0, 1], [0, 1, 0], [0, 1, 2], [0, 2, 1], [0, 2, 2], [0, 3, 0], [0, 3, 1], [0, 3, 2], [1, 0, 0], [1, 0, 2], [1, 1, 1], [1, 1, 2], [1, 2, 0], [1, 2, 1], [1, 2, 2], [1, 3, 0], [1, 3, 1], [1, 3, 2], [2, 0, 1], [2, 0, 2], [2, 1, 0], [2, 1, 1], [2, 1, 2], [2, 2, 0], [2, 2, 1], [2, 2, 2], [2, 3, 0], [2, 3, 1], [2, 3, 2], [3, 0, 0], [3, 0, 1], [3, 0, 2], [3, 1, 0], [3, 1, 1], [3, 1, 2], [3, 2, 0], [3, 2, 1], [3, 2, 2], [3, 3, 0], [3, 3, 1], [3, 3, 2], [4, 0, 0], [4, 0, 1], [4, 0, 2], [4, 1, 0], [4, 1, 1], [4, 1, 2], [4, 2, 0], [4, 2, 1], [4, 2, 2], [4, 3, 0], [4, 3, 1], [4, 3, 2], [5, 0, 0], [5, 0, 1], [5, 0, 2], [5, 1, 0], [5, 1, 1], [5, 1, 2], [5, 2, 0], [5, 2, 1], [5, 2, 2], [5, 3, 0], [5, 3, 1], [5, 3, 2]]\n"
          ]
        }
      ],
      "source": [
        "if __name__ == '__main__':\n",
        "    x = int(input())\n",
        "    y = int(input())\n",
        "    z = int(input())\n",
        "    n = int(input())\n",
        "    res=[ [i,j,k] for i in range(x+1) for j in range(y+1) for k in range(z+1) if (i+j+k)!=n]\n",
        "    print(res)"
      ]
    },
    {
      "cell_type": "markdown",
      "metadata": {
        "id": "E2j9oJoTmsDp"
      },
      "source": [
        "#### Q6 Find the Runner-Up Score!\n",
        "\n",
        "link - https://www.hackerrank.com/challenges/find-second-maximum-number-in-a-list/problem"
      ]
    },
    {
      "cell_type": "code",
      "execution_count": 10,
      "metadata": {
        "colab": {
          "base_uri": "https://localhost:8080/"
        },
        "id": "gu5LXGosmsDp",
        "outputId": "3e52f8ab-d700-4df2-8eec-f3832a65fb5a"
      },
      "outputs": [
        {
          "output_type": "stream",
          "name": "stdout",
          "text": [
            "4\n",
            "1 2 5 7 9\n",
            "7\n"
          ]
        }
      ],
      "source": [
        "if __name__ == '__main__':\n",
        "    n = int(input())\n",
        "    arr = list(map(int, input().split()))\n",
        "    maximum=float('-inf')\n",
        "    second_max=float('-inf')\n",
        "    for score in arr:\n",
        "        if(second_max<score and maximum>score):\n",
        "            second_max=score\n",
        "        if (score>maximum):\n",
        "            second_max=maximum\n",
        "            maximum=score\n",
        "            \n",
        "    print(second_max)"
      ]
    },
    {
      "cell_type": "markdown",
      "metadata": {
        "id": "mrGYLRVAmsDp"
      },
      "source": [
        "#### Q7 Nested Lists\n",
        "\n",
        "link - https://www.hackerrank.com/challenges/nested-list/problem"
      ]
    },
    {
      "cell_type": "code",
      "execution_count": 12,
      "metadata": {
        "colab": {
          "base_uri": "https://localhost:8080/"
        },
        "id": "PNAuznlRmsDp",
        "outputId": "98307f50-bc07-4bc1-d872-b0fd68a6192f"
      },
      "outputs": [
        {
          "output_type": "stream",
          "name": "stdout",
          "text": [
            "5\n",
            "santhosh\n",
            "34\n",
            "kol\n",
            "76\n",
            "hyg \n",
            "98\n",
            "swaf\n",
            "65\n",
            "uytr\n",
            "70\n",
            "swaf\n"
          ]
        }
      ],
      "source": [
        "if __name__ == '__main__':\n",
        "    lowest=float('inf')\n",
        "    second_lowest=float('inf')\n",
        "    details=[]\n",
        "    for _ in range(int(input())):\n",
        "        name = input()\n",
        "        score = float(input())\n",
        "        if (lowest>score):\n",
        "            second_lowest=lowest\n",
        "            lowest=score\n",
        "        if(second_lowest>=score and lowest<score):\n",
        "            second_lowest=score\n",
        "        details.append([name,score])\n",
        "    details=sorted(details,key=lambda x:x[0])\n",
        "    for detail in details:\n",
        "        if(detail[1]==second_lowest):\n",
        "            print(detail[0])"
      ]
    },
    {
      "cell_type": "markdown",
      "metadata": {
        "id": "Aw5B_rGjmsDq"
      },
      "source": [
        "#### Q8 Finding the percentage\n",
        "\n",
        "link - https://www.hackerrank.com/challenges/finding-the-percentage/problem"
      ]
    },
    {
      "cell_type": "code",
      "execution_count": 14,
      "metadata": {
        "colab": {
          "base_uri": "https://localhost:8080/"
        },
        "id": "TofrtcjbmsDq",
        "outputId": "6a2af6cd-9670-433d-d896-3ca2cd1a9237"
      },
      "outputs": [
        {
          "output_type": "stream",
          "name": "stdout",
          "text": [
            "3\n",
            "Harsh 25 26.5 28\n",
            "Anurag 26 28 30\n",
            "Malika 52 56 60\n",
            "Harsh\n",
            "26.50\n"
          ]
        }
      ],
      "source": [
        "if __name__ == '__main__':\n",
        "    n = int(input())\n",
        "    student_marks = {}\n",
        "    for _ in range(n):\n",
        "        name, *line = input().split()\n",
        "        scores = list(map(float, line))\n",
        "        student_marks[name] = scores\n",
        "    query_name = input()\n",
        "    print('%0.02f'% float(sum(student_marks[query_name])/len(student_marks[query_name])))"
      ]
    },
    {
      "cell_type": "markdown",
      "metadata": {
        "id": "5zefLL6hmsDq"
      },
      "source": [
        "#### Q9 Lists\n",
        "\n",
        "link - https://www.hackerrank.com/challenges/python-lists/problem"
      ]
    },
    {
      "cell_type": "code",
      "execution_count": 15,
      "metadata": {
        "colab": {
          "base_uri": "https://localhost:8080/"
        },
        "id": "i_peKqKymsDq",
        "outputId": "80833674-aef9-4957-f699-648aa656e9cd"
      },
      "outputs": [
        {
          "output_type": "stream",
          "name": "stdout",
          "text": [
            "12\n",
            "insert 0 5\n",
            "insert 0 6\n",
            "print\n",
            "remove 6\n",
            "append 9\n",
            "append 1\n",
            "sort\n",
            "print\n",
            "pop\n",
            "print\n",
            "reverse\n",
            "print\n",
            "[6, 5]\n",
            "[1, 5, 9]\n",
            "[1, 5]\n",
            "[5, 1]\n"
          ]
        }
      ],
      "source": [
        "if __name__ == '__main__':\n",
        "    N = int(input())\n",
        "    inputs=[]\n",
        "    for _ in range(N):\n",
        "        data=list(input().strip().split())\n",
        "        inputs.append(data)\n",
        "    res=[]\n",
        "    for action in inputs:\n",
        "        if(action[0]=='insert'):\n",
        "            res.insert(int(action[1]),int(action[2]))\n",
        "        elif(action[0]=='print'):\n",
        "            print(res)\n",
        "        elif(action[0]=='remove'):\n",
        "            res.remove(int(action[1]))\n",
        "        elif(action[0]=='append'):\n",
        "            res.append(int(action[1]))\n",
        "        elif(action[0]=='pop'):\n",
        "            res.pop()\n",
        "        elif(action[0]=='sort'):\n",
        "            res.sort()\n",
        "        else:\n",
        "            res.reverse()"
      ]
    },
    {
      "cell_type": "markdown",
      "metadata": {
        "id": "JetqRnvqmsDq"
      },
      "source": [
        "#### Q10 Tuples\n",
        "\n",
        "\n",
        "link - https://www.hackerrank.com/challenges/python-tuples/problem"
      ]
    },
    {
      "cell_type": "code",
      "execution_count": 16,
      "metadata": {
        "colab": {
          "base_uri": "https://localhost:8080/"
        },
        "id": "KpY2U7VymsDq",
        "outputId": "3557b579-5a4f-4d50-e2e7-97d65be6bd31"
      },
      "outputs": [
        {
          "output_type": "stream",
          "name": "stdout",
          "text": [
            "2\n",
            "1 6\n",
            "3713081631938740756\n"
          ]
        }
      ],
      "source": [
        "if __name__ == '__main__':\n",
        "    n = int(input())\n",
        "    integer_list = tuple(map(int, input().split()))\n",
        "    print(hash(integer_list))"
      ]
    },
    {
      "cell_type": "markdown",
      "metadata": {
        "id": "O_1QNM8imsDr"
      },
      "source": [
        "#### Q11 The Minion Game\n",
        "\n",
        "link - https://www.hackerrank.com/challenges/the-minion-game/problem"
      ]
    },
    {
      "cell_type": "code",
      "execution_count": 17,
      "metadata": {
        "colab": {
          "base_uri": "https://localhost:8080/"
        },
        "id": "6CXAWpz8msDr",
        "outputId": "45f6db43-7af7-4baf-e389-4c0a93e8c97e"
      },
      "outputs": [
        {
          "output_type": "stream",
          "name": "stdout",
          "text": [
            "BANANA\n",
            "Stuart 12\n"
          ]
        }
      ],
      "source": [
        "def minion_game(string):\n",
        "    val=len(string)\n",
        "    stuart=0\n",
        "    kevin=0\n",
        "    for i in range(len(string)):\n",
        "        if(string[i].lower() in 'aeiou'):\n",
        "            kevin+=(val-i)\n",
        "        else: \n",
        "            stuart+=(val-i)\n",
        "    if stuart>kevin:\n",
        "        winner= \"Stuart \"+str(stuart)\n",
        "    elif stuart<kevin: \n",
        "        winner= \"Kevin \"+str(kevin)\n",
        "    else:\n",
        "        winner=\"Draw\"\n",
        "    print(winner)\n",
        "    \n",
        "    # your code goes here\n",
        "\n",
        "if __name__ == '__main__':\n",
        "    s = input()\n",
        "    minion_game(s)"
      ]
    },
    {
      "cell_type": "markdown",
      "metadata": {
        "id": "UqPnkv5AmsDr"
      },
      "source": [
        "#### Q12 Designer door mat\n",
        "\n",
        "link - https://www.hackerrank.com/challenges/designer-door-mat/problem"
      ]
    },
    {
      "cell_type": "code",
      "execution_count": 19,
      "metadata": {
        "colab": {
          "base_uri": "https://localhost:8080/"
        },
        "id": "Rmq85m8OmsDr",
        "outputId": "012e0f85-0777-47a3-9fd3-18091e6629a7"
      },
      "outputs": [
        {
          "output_type": "stream",
          "name": "stdout",
          "text": [
            "9 27\n",
            "------------.|.------------\n",
            "---------.|..|..|.---------\n",
            "------.|..|..|..|..|.------\n",
            "---.|..|..|..|..|..|..|.---\n",
            "----------WELCOME----------\n",
            "---.|..|..|..|..|..|..|.---\n",
            "------.|..|..|..|..|.------\n",
            "---------.|..|..|.---------\n",
            "------------.|.------------\n"
          ]
        }
      ],
      "source": [
        "val=input().split()\n",
        "m=int(val[1])\n",
        "n=int(val[0])\n",
        "half=n//2\n",
        "for i in range(n):\n",
        "    if(i==half):\n",
        "        multi=(m-6)//2\n",
        "        print('-'*(multi)+'WELCOME'+'-'*(multi))\n",
        "    elif(i<half):\n",
        "        if(i==0):\n",
        "            multi=(m-3)//2\n",
        "            print('-'*(multi)+'.|.'+'-'*(multi))\n",
        "        else: \n",
        "            multi=(m-(3+(3*2*i)))//2\n",
        "            print('-'*(multi)+'.'+'|..'*(2*i)+'|.'+'-'*(multi)) \n",
        "    else:\n",
        "        val= n-(1+i)\n",
        "        multi=(m-(3+(val*3*2)))//2\n",
        "        print('-'*(multi)+'.'+'|..'*(2*(val))+'|.'+'-'*(multi))"
      ]
    },
    {
      "cell_type": "markdown",
      "metadata": {
        "id": "NOMtB0GRmsDr"
      },
      "source": [
        "#### Q13 Merge the tools\n",
        "\n",
        "link - https://www.hackerrank.com/challenges/merge-the-tools/problem"
      ]
    },
    {
      "cell_type": "code",
      "execution_count": 20,
      "metadata": {
        "colab": {
          "base_uri": "https://localhost:8080/"
        },
        "id": "WpoPfCW4msDr",
        "outputId": "ea0532b7-8395-4693-9dcc-6221dcc274fc"
      },
      "outputs": [
        {
          "output_type": "stream",
          "name": "stdout",
          "text": [
            "AABCAAADA\n",
            "3\n",
            "AB\n",
            "CA\n",
            "AD\n"
          ]
        }
      ],
      "source": [
        "def merge_the_tools(string, k):\n",
        "    def helper_func(s):\n",
        "        res=''\n",
        "        for i in s:\n",
        "            if i not in res:\n",
        "                res+=i\n",
        "        return res\n",
        "    \n",
        "    length = len(string)\n",
        "    i=0\n",
        "    while(i<length):\n",
        "        if(i+k>length):\n",
        "            print(helper_func(string[i:]))\n",
        "            break\n",
        "        else:\n",
        "            ti=string[i:i+k]\n",
        "            print(helper_func(ti))\n",
        "            i=i+k\n",
        "            \n",
        "    # your code goes here\n",
        "\n",
        "if __name__ == '__main__':\n",
        "  string, k = input(), int(input())\n",
        "  merge_the_tools(string, k)"
      ]
    },
    {
      "cell_type": "markdown",
      "metadata": {
        "id": "UReFAHzxmsDr"
      },
      "source": [
        "#### Q14 find a string\n",
        "\n",
        "link - https://www.hackerrank.com/challenges/find-a-string/problem"
      ]
    },
    {
      "cell_type": "code",
      "execution_count": 21,
      "metadata": {
        "colab": {
          "base_uri": "https://localhost:8080/"
        },
        "id": "-BHhqil1msDs",
        "outputId": "d670c59b-1971-4ff0-9a50-63526d9963a3"
      },
      "outputs": [
        {
          "output_type": "stream",
          "name": "stdout",
          "text": [
            "ABCDCDC\n",
            "CDC\n",
            "2\n"
          ]
        }
      ],
      "source": [
        "def count_substring(string, sub_string):\n",
        "    sub_string_length=len(sub_string)\n",
        "    count=0\n",
        "    for i in range(len(string)-(sub_string_length-1)):\n",
        "        if(sub_string==string[i:i+sub_string_length]):\n",
        "            count+=1\n",
        "    return count\n",
        "\n",
        "if __name__ == '__main__':\n",
        "    string = input().strip()\n",
        "    sub_string = input().strip()\n",
        "    \n",
        "    count = count_substring(string, sub_string)\n",
        "    print(count)"
      ]
    },
    {
      "cell_type": "markdown",
      "metadata": {
        "id": "7NaVbqYQmsDs"
      },
      "source": [
        "#### Q15 no idea\n",
        "\n",
        "link - https://www.hackerrank.com/challenges/no-idea/problem"
      ]
    },
    {
      "cell_type": "code",
      "execution_count": 22,
      "metadata": {
        "colab": {
          "base_uri": "https://localhost:8080/"
        },
        "id": "kL9OtchOmsDs",
        "outputId": "dafe0466-91e3-4f94-b183-692702d7964b"
      },
      "outputs": [
        {
          "output_type": "stream",
          "name": "stdout",
          "text": [
            "3 2\n",
            "1 5 3\n",
            "3 1\n",
            "5 7\n",
            "1\n"
          ]
        }
      ],
      "source": [
        "# Enter your code here. Read input from STDIN. Print output to STDOUT\n",
        "n=list(map(int,input().strip().split()))\n",
        "m=n[1]\n",
        "n=n[0]\n",
        "list_integers=list(map(int,input().strip().split()))\n",
        "set_A=set(map(int,input().strip().split()))\n",
        "set_B=set(map(int,input().strip().split()))\n",
        "########## LOGIC ###############################\n",
        "list_integers=list_integers\n",
        "happines=0\n",
        "for number in list_integers:\n",
        "    if number in set_A:\n",
        "        happines+=1\n",
        "    elif number in set_B:\n",
        "        happines-=1\n",
        "print(happines)"
      ]
    },
    {
      "cell_type": "markdown",
      "metadata": {
        "id": "8enZ540GmsDs"
      },
      "source": [
        "#### Q16 Symmetric difference set\n",
        "\n",
        "link - https://www.hackerrank.com/challenges/py-set-symmetric-difference-operation/problem\n"
      ]
    },
    {
      "cell_type": "code",
      "execution_count": 23,
      "metadata": {
        "colab": {
          "base_uri": "https://localhost:8080/"
        },
        "id": "RZhzQ-nzmsDs",
        "outputId": "127b9282-c2f4-4ea7-9956-306c85d90226"
      },
      "outputs": [
        {
          "output_type": "stream",
          "name": "stdout",
          "text": [
            "9\n",
            "1 2 3 4 5 6 7 8 9\n",
            "9\n",
            "10 1 2 3 11 21 55 6 8\n",
            "8\n"
          ]
        }
      ],
      "source": [
        "no_of_english_sub=int(input())\n",
        "list_roll_no_english_sub=set(map(int,input().strip().split()))\n",
        "no_of_french_sub=int(input())\n",
        "list_roll_no_french_sub=set(map(int,input().strip().split()))\n",
        "print(len(list_roll_no_english_sub.symmetric_difference(list_roll_no_french_sub)))"
      ]
    },
    {
      "cell_type": "markdown",
      "metadata": {
        "id": "dOP1BHcymsDs"
      },
      "source": [
        "#### Q17 lambda map expression\n",
        "\n",
        "link - https://www.hackerrank.com/challenges/map-and-lambda-expression/problem"
      ]
    },
    {
      "cell_type": "code",
      "execution_count": 24,
      "metadata": {
        "colab": {
          "base_uri": "https://localhost:8080/"
        },
        "id": "gx6JA7x8msDs",
        "outputId": "43bd99fb-103c-4dd2-8b59-1823b55d5e1a"
      },
      "outputs": [
        {
          "output_type": "stream",
          "name": "stdout",
          "text": [
            "3\n",
            "[0, 1, 1]\n"
          ]
        }
      ],
      "source": [
        "cube = lambda x: x**3 # complete the lambda function \n",
        "\n",
        "def fibonacci(n):\n",
        "    if n==0:\n",
        "        return []\n",
        "    elif n==1:\n",
        "        return [0]\n",
        "    elif n==2:\n",
        "        return [0,1]\n",
        "    res=[0,1]+[0]*(n-2)\n",
        "    for i in range(2,n):\n",
        "        res[i]=res[i-1]+res[i-2]\n",
        "    return res\n",
        "    # return a list of fibonacci numbers\n",
        "\n",
        "if __name__ == '__main__':\n",
        "    n = int(input())\n",
        "    print(list(map(cube, fibonacci(n))))"
      ]
    },
    {
      "cell_type": "markdown",
      "metadata": {
        "id": "M6Qet43CmsDs"
      },
      "source": [
        "#### Q18. validate list of email address\n",
        "\n",
        "link - https://www.hackerrank.com/challenges/validate-list-of-email-address-with-filter/problem\n"
      ]
    },
    {
      "cell_type": "code",
      "execution_count": 25,
      "metadata": {
        "colab": {
          "base_uri": "https://localhost:8080/"
        },
        "id": "BxZXEX1KmsDt",
        "outputId": "58867a8b-12a8-4bb3-bf6f-566ea1ace642"
      },
      "outputs": [
        {
          "output_type": "stream",
          "name": "stdout",
          "text": [
            "3\n",
            "lara@hackerrank.com\n",
            "brian-23@hackerrank.com\n",
            "britts_54@hackerrank.com\n",
            "['brian-23@hackerrank.com', 'britts_54@hackerrank.com', 'lara@hackerrank.com']\n"
          ]
        }
      ],
      "source": [
        "import re\n",
        "def fun(s):\n",
        "    pattern='^[\\w+\\-\\_]+@[A-Za-z0-9]+\\.{1}[A-Za-z]{1,3}$'\n",
        "    return re.match(pattern,s)\n",
        "    # return True if s is a valid email, else return False\n",
        "\n",
        "def filter_mail(emails):\n",
        "    return list(filter(fun, emails))\n",
        "\n",
        "if __name__ == '__main__':\n",
        "    n = int(input())\n",
        "    emails = []\n",
        "    for _ in range(n):\n",
        "        emails.append(input())\n",
        "\n",
        "filtered_emails = filter_mail(emails)\n",
        "filtered_emails.sort()\n",
        "print(filtered_emails)"
      ]
    },
    {
      "cell_type": "markdown",
      "metadata": {
        "id": "cfad_kObmsDt"
      },
      "source": [
        "#### Q19 reduce function problem\n",
        "\n",
        "link - https://www.hackerrank.com/challenges/reduce-function/problem\n"
      ]
    },
    {
      "cell_type": "code",
      "execution_count": 26,
      "metadata": {
        "colab": {
          "base_uri": "https://localhost:8080/"
        },
        "id": "g2lE_ngimsDt",
        "outputId": "d5f1d08e-9f87-4f73-dda6-dfb490a240e3"
      },
      "outputs": [
        {
          "output_type": "stream",
          "name": "stdout",
          "text": [
            "3\n",
            "1 2\n",
            "3 4\n",
            "5 7\n",
            "15 56\n"
          ]
        }
      ],
      "source": [
        "from fractions import Fraction\n",
        "from functools import reduce\n",
        "\n",
        "def product(fracs):\n",
        "    t= reduce(lambda x,z:x*z,fracs)\n",
        "    return t.numerator, t.denominator\n",
        "\n",
        "if __name__ == '__main__':\n",
        "    fracs = []\n",
        "    for _ in range(int(input())):\n",
        "        fracs.append(Fraction(*map(int, input().split())))\n",
        "    result = product(fracs)\n",
        "    print(*result)"
      ]
    },
    {
      "cell_type": "markdown",
      "metadata": {
        "id": "JFVGTP8OmsDt"
      },
      "source": [
        "#### Q20 collection counter problem\n",
        "\n",
        "link - https://www.hackerrank.com/challenges/collections-counter/problem\n"
      ]
    },
    {
      "cell_type": "code",
      "execution_count": 27,
      "metadata": {
        "colab": {
          "base_uri": "https://localhost:8080/"
        },
        "id": "RyVMjdwkmsDt",
        "outputId": "c5696bc7-fbb8-483e-bf3b-c2241f59561e"
      },
      "outputs": [
        {
          "output_type": "stream",
          "name": "stdout",
          "text": [
            "3\n",
            "2 3 4 5 6 8 7 6 5 18\n",
            "6\n",
            "6 55\n",
            "6 45\n",
            "6 55\n",
            "4 40\n",
            "18 60\n",
            "10 70\n",
            "200\n"
          ]
        }
      ],
      "source": [
        "from collections import Counter\n",
        "def amount_earned_by_shop_owner(no_of_customers,sizes_of_shoe,requirements,size_to_number_mapping):\n",
        "    amt=0\n",
        "    for req in requirements:\n",
        "        if req[0] in size_to_number_mapping and size_to_number_mapping[req[0]]>0 :\n",
        "            size_to_number_mapping[req[0]]-=1\n",
        "            amt+=req[1]\n",
        "    print(amt)\n",
        "\n",
        "if __name__=='__main__':\n",
        "    no_of_shoes= int(input())\n",
        "    sizes_of_shoe=list(map(int,input().strip().split()))\n",
        "    no_of_customers=int(input())\n",
        "    requirements=[]\n",
        "    for _ in range(no_of_customers):\n",
        "        requirements.append((tuple(map(int, input().strip().split()))))\n",
        "    size_to_number_mapping= Counter(sizes_of_shoe)\n",
        "    amount_earned_by_shop_owner(no_of_customers,sizes_of_shoe,requirements,size_to_number_mapping)"
      ]
    },
    {
      "cell_type": "markdown",
      "metadata": {
        "id": "HXPdJdYKmsDt"
      },
      "source": [
        "#### Q21 collections namedtuple\n",
        "\n",
        "link - https://www.hackerrank.com/challenges/py-collections-namedtuple/problem\n"
      ]
    },
    {
      "cell_type": "code",
      "execution_count": 28,
      "metadata": {
        "colab": {
          "base_uri": "https://localhost:8080/"
        },
        "id": "KhTdI-RamsDt",
        "outputId": "5398f227-2f09-4a57-cdc8-8681a62416d9"
      },
      "outputs": [
        {
          "output_type": "stream",
          "name": "stdout",
          "text": [
            "5\n",
            "ID         MARKS      NAME       CLASS\n",
            "1          97         Raymond    7\n",
            "2          50         Steven     4\n",
            "3          91         Adrian     9\n",
            "4          72         Stewart    5\n",
            "5          80         Peter      6\n",
            "78.00\n"
          ]
        }
      ],
      "source": [
        "from collections import namedtuple\n",
        "Total_no_of_students=int(input())\n",
        "fields= input().strip().split()\n",
        "Students=namedtuple('Student',fields)\n",
        "score=0\n",
        "for _ in range(Total_no_of_students):\n",
        "    fields1 = input().strip().split()\n",
        "    Student=Students._make(fields1)\n",
        "    score+=int(Student.MARKS)\n",
        "print('{:.2f}'.format(score/Total_no_of_students))"
      ]
    },
    {
      "cell_type": "markdown",
      "metadata": {
        "id": "KLIpjRT1msDt"
      },
      "source": [
        "#### Q22 default dict \n",
        "\n",
        "link - \n",
        "https://www.hackerrank.com/challenges/defaultdict-tutorial/problem\n"
      ]
    },
    {
      "cell_type": "code",
      "execution_count": 29,
      "metadata": {
        "colab": {
          "base_uri": "https://localhost:8080/"
        },
        "id": "BZcALm-zmsDt",
        "outputId": "051a1086-bdc5-4134-d3d8-672585843376"
      },
      "outputs": [
        {
          "output_type": "stream",
          "name": "stdout",
          "text": [
            "5 2\n",
            "a\n",
            "a\n",
            "b\n",
            "a\n",
            "b\n",
            "a\n",
            "1 2 4\n",
            "b\n",
            "3 5\n"
          ]
        }
      ],
      "source": [
        "from collections import defaultdict\n",
        "no_of_letters_in_A,no_of_letters_in_B=map(int,input().strip().split())\n",
        "group_A=defaultdict(list)\n",
        "for i in range(no_of_letters_in_A):\n",
        "    group_A[input().strip()].append(str(i+1))\n",
        "for j in range(no_of_letters_in_B):\n",
        "    val= input().strip()\n",
        "    if val in group_A:\n",
        "        print(' '.join(group_A[val]))\n",
        "    else:\n",
        "        print(-1)"
      ]
    },
    {
      "cell_type": "markdown",
      "metadata": {
        "id": "FMdJLrL7msDu"
      },
      "source": [
        "#### Q23 Ordered dict\n",
        "\n",
        "link - https://www.hackerrank.com/challenges/py-collections-ordereddict/problem\n"
      ]
    },
    {
      "cell_type": "code",
      "execution_count": 30,
      "metadata": {
        "colab": {
          "base_uri": "https://localhost:8080/"
        },
        "id": "8RYCsg08msDu",
        "outputId": "3bbf9d9c-5496-4f3c-9182-4decad249bd5"
      },
      "outputs": [
        {
          "output_type": "stream",
          "name": "stdout",
          "text": [
            "9\n",
            "BANANA FRIES 12\n",
            "POTATO CHIPS 30\n",
            "APPLE JUICE 10\n",
            "CANDY 5\n",
            "APPLE JUICE 10\n",
            "CANDY 5\n",
            "CANDY 5\n",
            "POTATO CHIPS 30\n",
            "POTATO CHIPS 30\n",
            "******************************\n",
            "BANANA FRIES 12\n",
            "POTATO CHIPS 90\n",
            "APPLE JUICE 20\n",
            "CANDY 15\n"
          ]
        }
      ],
      "source": [
        "from collections import OrderedDict\n",
        "import re\n",
        "Total_no_of_items=int(input())\n",
        "d1=OrderedDict()\n",
        "for i in range(Total_no_of_items):\n",
        "    inputs=input().strip()\n",
        "    key= re.search('^[a-zA-Z ]+',inputs).group().strip()\n",
        "    val=re.search('[0-9]+$',inputs).group().strip()\n",
        "    if key in d1:\n",
        "        d1[key]+=int(val)\n",
        "    else:\n",
        "        d1[key]=int(val)\n",
        "print('*'*30)\n",
        "for key,values in d1.items():\n",
        "    print(key,values)"
      ]
    },
    {
      "cell_type": "markdown",
      "metadata": {
        "id": "9TktRAyamsDu"
      },
      "source": [
        "#### Q24 word order\n",
        "\n",
        "link - https://www.hackerrank.com/challenges/word-order/problem\n"
      ]
    },
    {
      "cell_type": "code",
      "execution_count": 31,
      "metadata": {
        "colab": {
          "base_uri": "https://localhost:8080/"
        },
        "id": "VIj1fd1HmsDu",
        "outputId": "86a01a4a-ac33-4337-bfa4-7ecbb532ac24"
      },
      "outputs": [
        {
          "output_type": "stream",
          "name": "stdout",
          "text": [
            "4\n",
            "bcdef\n",
            "abcdefgh\n",
            "bcde\n",
            "bcdef\n",
            "3\n",
            "2 1 1\n"
          ]
        }
      ],
      "source": [
        "from collections import OrderedDict\n",
        "no_of_words=int(input())\n",
        "data=OrderedDict()\n",
        "for _ in range(no_of_words):\n",
        "    values=input().strip()\n",
        "    if(values in data):\n",
        "        data[values]+=1\n",
        "    else:\n",
        "        data[values]=1\n",
        "\n",
        "print(len(data))\n",
        "print(' '.join(map(str,data.values())))"
      ]
    },
    {
      "cell_type": "markdown",
      "metadata": {
        "id": "ssSasaxdmsDu"
      },
      "source": [
        "#### Q25 Company logo\n",
        "\n",
        "link - https://www.hackerrank.com/challenges/most-commons/problem\n"
      ]
    },
    {
      "cell_type": "code",
      "execution_count": 32,
      "metadata": {
        "colab": {
          "base_uri": "https://localhost:8080/"
        },
        "id": "bcXzxe8wmsDu",
        "outputId": "2e3a7c7c-77d0-4fb8-daca-0a8fa9007ffa"
      },
      "outputs": [
        {
          "output_type": "stream",
          "name": "stdout",
          "text": [
            "GOOGLE\n",
            "G 2\n",
            "O 2\n",
            "E 1\n"
          ]
        }
      ],
      "source": [
        "from collections import Counter\n",
        "def logo(s):\n",
        "    counters= Counter(s)\n",
        "    data=sorted(counters.items(),key= lambda x: (-x[1],x[0]) )\n",
        "    for i in data[:3]:\n",
        "        print(i[0],i[1])\n",
        "\n",
        "if __name__ == '__main__':\n",
        "    s = input()\n",
        "    logo(s)"
      ]
    },
    {
      "cell_type": "markdown",
      "metadata": {
        "id": "4EJuk4GlmsDu"
      },
      "source": [
        "#### Q26 itertools product\n",
        "\n",
        "link - https://www.hackerrank.com/challenges/itertools-product/problem\n",
        " "
      ]
    },
    {
      "cell_type": "code",
      "execution_count": 33,
      "metadata": {
        "colab": {
          "base_uri": "https://localhost:8080/"
        },
        "id": "-0uNAeA2msDu",
        "outputId": "ab5d2d8f-6a82-4712-a8f5-4a98d841586e"
      },
      "outputs": [
        {
          "output_type": "stream",
          "name": "stdout",
          "text": [
            "1 3\n",
            "1 2\n",
            "(1, 1) (1, 2) (3, 1) (3, 2) "
          ]
        }
      ],
      "source": [
        "from itertools import product\n",
        "A=list(map(int,input().strip().split()))\n",
        "B=list(map(int,input().strip().split()))\n",
        "for val in list(product(A,B)):\n",
        "    print(val,end=\" \")"
      ]
    },
    {
      "cell_type": "markdown",
      "metadata": {
        "id": "d2lujOHymsDu"
      },
      "source": [
        "#### Q27 itertools permutation\n",
        "\n",
        "link - https://www.hackerrank.com/challenges/itertools-permutations/problem\n"
      ]
    },
    {
      "cell_type": "code",
      "execution_count": 35,
      "metadata": {
        "colab": {
          "base_uri": "https://localhost:8080/"
        },
        "id": "Lz2KrUr9msDu",
        "outputId": "bc91b8ff-097d-406a-be97-feeaf4e01111"
      },
      "outputs": [
        {
          "output_type": "stream",
          "name": "stdout",
          "text": [
            "HACK 2\n",
            "AC\n",
            "AH\n",
            "AK\n",
            "CA\n",
            "CH\n",
            "CK\n",
            "HA\n",
            "HC\n",
            "HK\n",
            "KA\n",
            "KC\n",
            "KH\n"
          ]
        }
      ],
      "source": [
        "from itertools import permutations\n",
        "data=input().strip().split()\n",
        "def string(data):\n",
        "    return ''.join(data)\n",
        "for data in sorted(map(string,(permutations(data[0],int(data[1]))))):\n",
        "    print(data)"
      ]
    },
    {
      "cell_type": "markdown",
      "metadata": {
        "id": "i2m5z_FimsDv"
      },
      "source": [
        "#### Q28 itertools combination\n",
        "\n",
        "link - https://www.hackerrank.com/challenges/itertools-combinations/problem\n"
      ]
    },
    {
      "cell_type": "code",
      "execution_count": 36,
      "metadata": {
        "colab": {
          "base_uri": "https://localhost:8080/"
        },
        "id": "axNQVe51msDx",
        "outputId": "ebce731b-dc2b-436c-dcd7-bbcd0844e6f8"
      },
      "outputs": [
        {
          "output_type": "stream",
          "name": "stdout",
          "text": [
            "HACK 2\n",
            "A\n",
            "C\n",
            "H\n",
            "K\n",
            "AC\n",
            "AH\n",
            "AK\n",
            "CH\n",
            "CK\n",
            "HK\n"
          ]
        }
      ],
      "source": [
        "from itertools import combinations\n",
        "def String(val):\n",
        "    return ''.join(sorted(val))\n",
        "data= input().strip().split()\n",
        "for i in range(int(data[1])):\n",
        "    for dat in sorted((map(String,combinations(data[0],i+1)))):\n",
        "        print(dat)"
      ]
    },
    {
      "cell_type": "markdown",
      "metadata": {
        "id": "MLRqqDE1msDx"
      },
      "source": [
        "#### Q29 itertools combination\n",
        "\n",
        "link - https://www.hackerrank.com/challenges/itertools-combinations-with-replacement/problem\n"
      ]
    },
    {
      "cell_type": "code",
      "execution_count": 37,
      "metadata": {
        "colab": {
          "base_uri": "https://localhost:8080/"
        },
        "id": "wnxQOPlgmsDx",
        "outputId": "be43317f-73df-4ffa-8b58-2ee6b388ad61"
      },
      "outputs": [
        {
          "output_type": "stream",
          "name": "stdout",
          "text": [
            "HACK 2\n",
            "AA\n",
            "AC\n",
            "AH\n",
            "AK\n",
            "CC\n",
            "CH\n",
            "CK\n",
            "HH\n",
            "HK\n",
            "KK\n"
          ]
        }
      ],
      "source": [
        "from itertools import combinations_with_replacement\n",
        "data=input().strip().split()\n",
        "def string(data):\n",
        "    return ''.join(sorted(data))\n",
        "for data in sorted(map(string,(combinations_with_replacement(data[0],int(data[1]))))):\n",
        "    print(data)"
      ]
    },
    {
      "cell_type": "markdown",
      "metadata": {
        "id": "qde-xHSlmsDy"
      },
      "source": [
        "#### Q30 compress the string\n",
        "\n",
        "link - https://www.hackerrank.com/challenges/compress-the-string/problem\n"
      ]
    },
    {
      "cell_type": "code",
      "execution_count": 38,
      "metadata": {
        "colab": {
          "base_uri": "https://localhost:8080/"
        },
        "id": "iJMSZgrqmsDy",
        "outputId": "514e69f9-25f7-4d95-959b-b1be6bece622"
      },
      "outputs": [
        {
          "output_type": "stream",
          "name": "stdout",
          "text": [
            "11222311\n",
            "(2, 1) (3, 2) (1, 3) (2, 1)\n"
          ]
        }
      ],
      "source": [
        "from itertools import groupby\n",
        "n=input()\n",
        "print(*[(len(list(v)),int(k)) for k,v in (groupby(n))])\n",
        "\n",
        "\n",
        "\n"
      ]
    },
    {
      "cell_type": "markdown",
      "metadata": {
        "id": "zFeua8JamsDy"
      },
      "source": [
        "#### Q31 iterables and iterators\n",
        "\n",
        "link - https://www.hackerrank.com/challenges/iterables-and-iterators/problem\n"
      ]
    },
    {
      "cell_type": "code",
      "execution_count": 40,
      "metadata": {
        "colab": {
          "base_uri": "https://localhost:8080/"
        },
        "id": "VA1cex2RmsDy",
        "outputId": "12aedc29-b958-4b08-9bf2-a963e5b0b0d8"
      },
      "outputs": [
        {
          "output_type": "stream",
          "name": "stdout",
          "text": [
            "4\n",
            "a a b c\n",
            "2\n",
            "0.8333333333333334\n"
          ]
        }
      ],
      "source": [
        "from itertools import combinations\n",
        "n=int(input())\n",
        "data=input().strip().split()\n",
        "cnt_a=0\n",
        "Total=0\n",
        "res= combinations(data,int(input()))\n",
        "for i in (res):\n",
        "    if ('a' in i):\n",
        "        cnt_a+=1  \n",
        "    Total+=1\n",
        "        \n",
        "\n",
        "print(cnt_a/Total)"
      ]
    },
    {
      "cell_type": "markdown",
      "metadata": {
        "id": "61gCNMlQmsDy"
      },
      "source": [
        "#### Q32 Maximize it\n",
        "\n",
        "link - https://www.hackerrank.com/challenges/maximize-it/problem\n"
      ]
    },
    {
      "cell_type": "code",
      "execution_count": 41,
      "metadata": {
        "colab": {
          "base_uri": "https://localhost:8080/"
        },
        "id": "ZrA3dXrpmsDy",
        "outputId": "ffe2bd7c-b78c-4d99-a69f-aa30ba63efd2"
      },
      "outputs": [
        {
          "output_type": "stream",
          "name": "stdout",
          "text": [
            "3 1000\n",
            "2 5 4\n",
            "3 7 8 9\n",
            "5 5 7 8 9 10\n",
            "206\n"
          ]
        }
      ],
      "source": [
        "K,M = map(int,input().split())\n",
        "N = (list(map(int, input().split()))[1:] for _ in range(K))\n",
        "results = map(lambda x: sum(i**2 for i in x)%M, product(*N))\n",
        "print(max(results))\n",
        "\n",
        "\n",
        "\n",
        "\n",
        "\n",
        "\n"
      ]
    },
    {
      "cell_type": "markdown",
      "metadata": {
        "id": "9vpWI_zYmsDy"
      },
      "source": [
        "---------------------------------\n",
        "\n",
        "# \"Cheers\":) Congratulations! you have completed the Python Intermediate challenge. \n",
        "\n",
        "--------------------------------\n",
        "\n",
        "# FeedBack\n",
        "We hope you’ve enjoyed this course so far. We’re committed to help you use \"AI for All\" course to its full potential, so that you have a great learning experience. And that’s why we need your help in form of a feedback here.\n",
        "\n",
        "Please fill this feedback form  https://zfrmz.in/MtRG5oWXBdesm6rmSM7N"
      ]
    }
  ],
  "metadata": {
    "kernelspec": {
      "display_name": "Python 3",
      "language": "python",
      "name": "python3"
    },
    "language_info": {
      "codemirror_mode": {
        "name": "ipython",
        "version": 3
      },
      "file_extension": ".py",
      "mimetype": "text/x-python",
      "name": "python",
      "nbconvert_exporter": "python",
      "pygments_lexer": "ipython3",
      "version": "3.8.5"
    },
    "colab": {
      "name": "Python Intermediate Challenge-1.ipynb",
      "provenance": []
    }
  },
  "nbformat": 4,
  "nbformat_minor": 0
}