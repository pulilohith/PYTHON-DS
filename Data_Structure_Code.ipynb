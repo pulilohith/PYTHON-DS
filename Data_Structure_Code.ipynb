{
  "nbformat": 4,
  "nbformat_minor": 5,
  "metadata": {
    "kernelspec": {
      "display_name": "Python 3",
      "language": "python",
      "name": "python3"
    },
    "language_info": {
      "codemirror_mode": {
        "name": "ipython",
        "version": 3
      },
      "file_extension": ".py",
      "mimetype": "text/x-python",
      "name": "python",
      "nbconvert_exporter": "python",
      "pygments_lexer": "ipython3",
      "version": "3.7.6"
    },
    "colab": {
      "name": "Data_Structure (1).ipynb",
      "provenance": []
    }
  },
  "cells": [
    {
      "cell_type": "markdown",
      "metadata": {
        "id": "f8pItHtgkpbz"
      },
      "source": [
        "# <center> <u>Data Structures <u> </center>"
      ],
      "id": "f8pItHtgkpbz"
    },
    {
      "cell_type": "markdown",
      "metadata": {
        "id": "MWx_0nS8kpb4"
      },
      "source": [
        "## 1. Lists\n",
        "\n",
        "Reference:- https://www.youtube.com/watch?v=b3O9qI5dcHE&list=PLsR_0x6BuM-GCc3iD6OQuEZHCAtYPmZfx&index=10\n",
        "\n"
      ],
      "id": "MWx_0nS8kpb4"
    },
    {
      "cell_type": "markdown",
      "metadata": {
        "id": "UtGdnSPmkpb5"
      },
      "source": [
        "<p style='text-align: right;'> 1+1+1 = 3 points</p>\n"
      ],
      "id": "UtGdnSPmkpb5"
    },
    {
      "cell_type": "markdown",
      "metadata": {
        "id": "WAhL2Oo-kpb6"
      },
      "source": [
        "#### 1.1 Create an empty list with the name ‘a’, print the value of a and type(a).\n"
      ],
      "id": "WAhL2Oo-kpb6"
    },
    {
      "cell_type": "code",
      "metadata": {
        "id": "urx8RrG0kpb6"
      },
      "source": [
        "# create empty list, name it 'a'\n",
        "a=[]\n"
      ],
      "id": "urx8RrG0kpb6",
      "execution_count": 2,
      "outputs": []
    },
    {
      "cell_type": "code",
      "metadata": {
        "id": "kfqiZLuKkpb8",
        "outputId": "dcf63fc2-3937-40ef-d343-920d652b2308",
        "colab": {
          "base_uri": "https://localhost:8080/"
        }
      },
      "source": [
        "# print the value of a\n",
        "print(a)\n"
      ],
      "id": "kfqiZLuKkpb8",
      "execution_count": 3,
      "outputs": [
        {
          "output_type": "stream",
          "name": "stdout",
          "text": [
            "[]\n"
          ]
        }
      ]
    },
    {
      "cell_type": "code",
      "metadata": {
        "id": "eWwP4exrkpb9",
        "outputId": "2eb0b873-5d86-4779-8e9e-c66d55780cc2",
        "colab": {
          "base_uri": "https://localhost:8080/"
        }
      },
      "source": [
        "# print the type of a\n",
        "\n",
        "print(type(a))"
      ],
      "id": "eWwP4exrkpb9",
      "execution_count": 4,
      "outputs": [
        {
          "output_type": "stream",
          "name": "stdout",
          "text": [
            "<class 'list'>\n"
          ]
        }
      ]
    },
    {
      "cell_type": "markdown",
      "metadata": {
        "id": "32ysMWS-kpb-"
      },
      "source": [
        "#### 1.2.Create a list , languages = ['R','Python', 'SAS', 'Scala', 42], "
      ],
      "id": "32ysMWS-kpb-"
    },
    {
      "cell_type": "markdown",
      "metadata": {
        "id": "c0kXpcXjkpb-"
      },
      "source": [
        "<p style='text-align: right;'> 1+1+1+1+1+1+1+1 = 7 points</p>\n"
      ],
      "id": "c0kXpcXjkpb-"
    },
    {
      "cell_type": "code",
      "metadata": {
        "id": "g-AO-p4Dkpb_"
      },
      "source": [
        "#code here\n",
        "languages=['R','Python', 'SAS', 'Scala', 42]"
      ],
      "id": "g-AO-p4Dkpb_",
      "execution_count": 15,
      "outputs": []
    },
    {
      "cell_type": "markdown",
      "metadata": {
        "id": "8PF67_8SkpcA"
      },
      "source": [
        "Print the number of elements in the list"
      ],
      "id": "8PF67_8SkpcA"
    },
    {
      "cell_type": "code",
      "metadata": {
        "id": "iQGAQq9VkpcA",
        "outputId": "01d8fc10-2f86-4fb9-f4fe-fbc82a3302b0",
        "colab": {
          "base_uri": "https://localhost:8080/"
        }
      },
      "source": [
        "#code here\n",
        "print(len(languages))"
      ],
      "id": "iQGAQq9VkpcA",
      "execution_count": 16,
      "outputs": [
        {
          "output_type": "stream",
          "name": "stdout",
          "text": [
            "5\n"
          ]
        }
      ]
    },
    {
      "cell_type": "markdown",
      "metadata": {
        "id": "_9sgh2mmkpcA"
      },
      "source": [
        "Using for loop iterate and print all the elements in the list"
      ],
      "id": "_9sgh2mmkpcA"
    },
    {
      "cell_type": "code",
      "metadata": {
        "id": "-LcM7OzqkpcB",
        "outputId": "942e5808-c82d-4dcc-f313-033e9439f3cf",
        "colab": {
          "base_uri": "https://localhost:8080/"
        }
      },
      "source": [
        "#code here\n",
        "for elements in languages:\n",
        "  print(elements)\n"
      ],
      "id": "-LcM7OzqkpcB",
      "execution_count": 17,
      "outputs": [
        {
          "output_type": "stream",
          "name": "stdout",
          "text": [
            "R\n",
            "Python\n",
            "SAS\n",
            "Scala\n",
            "42\n"
          ]
        }
      ]
    },
    {
      "cell_type": "markdown",
      "metadata": {
        "id": "jpjlH5l3kpcB"
      },
      "source": [
        "Select the second item, 'Python' and store it in a new variable named 'temp'"
      ],
      "id": "jpjlH5l3kpcB"
    },
    {
      "cell_type": "code",
      "metadata": {
        "id": "IQit1VGkkpcC"
      },
      "source": [
        "#code here\n",
        "temp=languages[1]"
      ],
      "id": "IQit1VGkkpcC",
      "execution_count": 18,
      "outputs": []
    },
    {
      "cell_type": "markdown",
      "metadata": {
        "id": "Ps13-taZkpcC"
      },
      "source": [
        "Print the value of temp and type(temp)"
      ],
      "id": "Ps13-taZkpcC"
    },
    {
      "cell_type": "code",
      "metadata": {
        "id": "897kqIj0kpcC",
        "outputId": "ea43d833-cb5a-4972-e59a-117f4aae909a",
        "colab": {
          "base_uri": "https://localhost:8080/"
        }
      },
      "source": [
        "#code here\n",
        "print(temp)\n",
        "print(type(temp))"
      ],
      "id": "897kqIj0kpcC",
      "execution_count": 19,
      "outputs": [
        {
          "output_type": "stream",
          "name": "stdout",
          "text": [
            "Python\n",
            "<class 'str'>\n"
          ]
        }
      ]
    },
    {
      "cell_type": "markdown",
      "metadata": {
        "id": "V9f0P9zTkpcC"
      },
      "source": [
        "Using list comprehension, print the last two elemets of list"
      ],
      "id": "V9f0P9zTkpcC"
    },
    {
      "cell_type": "code",
      "metadata": {
        "id": "rZzWEtGakpcD",
        "outputId": "6dcfcc6c-ec8b-4096-8483-d10304570041",
        "colab": {
          "base_uri": "https://localhost:8080/"
        }
      },
      "source": [
        "# code here\n",
        "print([ elem for i,elem in enumerate(languages,start=1) if i>(len(languages)-2) ])"
      ],
      "id": "rZzWEtGakpcD",
      "execution_count": 20,
      "outputs": [
        {
          "output_type": "stream",
          "name": "stdout",
          "text": [
            "['Scala', 42]\n"
          ]
        }
      ]
    },
    {
      "cell_type": "markdown",
      "metadata": {
        "id": "wWY8wHfjkpcD"
      },
      "source": [
        "Append the element 'Java' in the list"
      ],
      "id": "wWY8wHfjkpcD"
    },
    {
      "cell_type": "code",
      "metadata": {
        "id": "ig5OP9J3kpcD"
      },
      "source": [
        "#code here\n",
        "languages.append('Java')"
      ],
      "id": "ig5OP9J3kpcD",
      "execution_count": 21,
      "outputs": []
    },
    {
      "cell_type": "markdown",
      "metadata": {
        "id": "JZF8zdS9kpcE"
      },
      "source": [
        "Remove the element 42 from the list and print the list"
      ],
      "id": "JZF8zdS9kpcE"
    },
    {
      "cell_type": "code",
      "metadata": {
        "id": "eNtarY6pkpcE",
        "outputId": "e623324c-464a-4c76-c404-67124cfa77b6",
        "colab": {
          "base_uri": "https://localhost:8080/"
        }
      },
      "source": [
        "#code here\n",
        "languages.remove(42)\n",
        "languages"
      ],
      "id": "eNtarY6pkpcE",
      "execution_count": 23,
      "outputs": [
        {
          "output_type": "execute_result",
          "data": {
            "text/plain": [
              "['R', 'Python', 'SAS', 'Scala', 'Java']"
            ]
          },
          "metadata": {},
          "execution_count": 23
        }
      ]
    },
    {
      "cell_type": "markdown",
      "metadata": {
        "id": "BtIptPlokpcF"
      },
      "source": [
        "#### 1.3. Create a list, colors = [‘Red’, ‘Blue’, ‘White’]"
      ],
      "id": "BtIptPlokpcF"
    },
    {
      "cell_type": "markdown",
      "metadata": {
        "id": "_zlfG-a3kpcF"
      },
      "source": [
        "<p style='text-align: right;'> 1+1+1+1+1+1+1 = 6 points</p>\n"
      ],
      "id": "_zlfG-a3kpcF"
    },
    {
      "cell_type": "code",
      "metadata": {
        "id": "SgKuIBIGkpcF"
      },
      "source": [
        "#code here\n",
        "colors = [\"Red\", \"Blue\", \"White\"]"
      ],
      "id": "SgKuIBIGkpcF",
      "execution_count": 35,
      "outputs": []
    },
    {
      "cell_type": "markdown",
      "metadata": {
        "id": "MF0M4NlqkpcF"
      },
      "source": [
        "Append the element 'Black' to colors"
      ],
      "id": "MF0M4NlqkpcF"
    },
    {
      "cell_type": "code",
      "metadata": {
        "id": "rqwFPHBOkpcF"
      },
      "source": [
        "#code here\n",
        "colors.append('Black')"
      ],
      "id": "rqwFPHBOkpcF",
      "execution_count": 36,
      "outputs": []
    },
    {
      "cell_type": "markdown",
      "metadata": {
        "id": "fyBKDowJkpcG"
      },
      "source": [
        "Append the color 'Orange' to second position (index=1) and print the list"
      ],
      "id": "fyBKDowJkpcG"
    },
    {
      "cell_type": "code",
      "metadata": {
        "id": "Uu-VWRHLkpcG"
      },
      "source": [
        "# code here\n",
        "colors.insert(1,'Orange')"
      ],
      "id": "Uu-VWRHLkpcG",
      "execution_count": 37,
      "outputs": []
    },
    {
      "cell_type": "markdown",
      "metadata": {
        "id": "uwSMx8qGkpcG"
      },
      "source": [
        "Print the list\n"
      ],
      "id": "uwSMx8qGkpcG"
    },
    {
      "cell_type": "code",
      "metadata": {
        "id": "Pgi-1ValkpcG",
        "outputId": "8c48657a-431d-4e26-d6ac-2368a57cca20",
        "colab": {
          "base_uri": "https://localhost:8080/"
        }
      },
      "source": [
        "# code here\n",
        "colors"
      ],
      "id": "Pgi-1ValkpcG",
      "execution_count": 38,
      "outputs": [
        {
          "output_type": "execute_result",
          "data": {
            "text/plain": [
              "['Red', 'Orange', 'Blue', 'White', 'Black']"
            ]
          },
          "metadata": {},
          "execution_count": 38
        }
      ]
    },
    {
      "cell_type": "markdown",
      "metadata": {
        "id": "hpe93njnkpcG"
      },
      "source": [
        "Create another list, colors2 = [‘Grey’, ‘Sky Blue’]"
      ],
      "id": "hpe93njnkpcG"
    },
    {
      "cell_type": "code",
      "metadata": {
        "id": "9oSBcKnOkpcG"
      },
      "source": [
        "# code here\n",
        "colors2 = [\"Grey\", \"Sky Blue\"]"
      ],
      "id": "9oSBcKnOkpcG",
      "execution_count": 39,
      "outputs": []
    },
    {
      "cell_type": "markdown",
      "metadata": {
        "id": "DS86K9h5kpcH"
      },
      "source": [
        "Add the elements of colors2 to colors using extend function in the list"
      ],
      "id": "DS86K9h5kpcH"
    },
    {
      "cell_type": "code",
      "metadata": {
        "id": "YHcLi8sXkpcH"
      },
      "source": [
        "#code here\n",
        "colors.extend(colors2)"
      ],
      "id": "YHcLi8sXkpcH",
      "execution_count": 40,
      "outputs": []
    },
    {
      "cell_type": "markdown",
      "metadata": {
        "id": "9b4UNCk2kpcH"
      },
      "source": [
        "Print len of colors and its elements"
      ],
      "id": "9b4UNCk2kpcH"
    },
    {
      "cell_type": "code",
      "metadata": {
        "id": "9CpE1EdkkpcH",
        "outputId": "ce2059f7-4d38-4365-8ceb-fce53c079222",
        "colab": {
          "base_uri": "https://localhost:8080/"
        }
      },
      "source": [
        "# code here\n",
        "print(len(colors))\n",
        "print(colors)"
      ],
      "id": "9CpE1EdkkpcH",
      "execution_count": 41,
      "outputs": [
        {
          "output_type": "stream",
          "name": "stdout",
          "text": [
            "7\n",
            "['Red', 'Orange', 'Blue', 'White', 'Black', 'Grey', 'Sky Blue']\n"
          ]
        }
      ]
    },
    {
      "cell_type": "markdown",
      "metadata": {
        "id": "JyoPvYVDkpcI"
      },
      "source": [
        "Sort the list and print it."
      ],
      "id": "JyoPvYVDkpcI"
    },
    {
      "cell_type": "code",
      "metadata": {
        "id": "5O6F7CQskpcI",
        "outputId": "3608fb26-3ac7-4827-973e-e43ea541654f",
        "colab": {
          "base_uri": "https://localhost:8080/"
        }
      },
      "source": [
        "# code here\n",
        "colors.sort()\n",
        "print(colors)"
      ],
      "id": "5O6F7CQskpcI",
      "execution_count": 42,
      "outputs": [
        {
          "output_type": "stream",
          "name": "stdout",
          "text": [
            "['Black', 'Blue', 'Grey', 'Orange', 'Red', 'Sky Blue', 'White']\n"
          ]
        }
      ]
    },
    {
      "cell_type": "markdown",
      "metadata": {
        "id": "KisfdajdkpcI"
      },
      "source": [
        "#### 1.4. Create a string, sent = ‘Coronavirus Caused Lockdowns Around The World.”"
      ],
      "id": "KisfdajdkpcI"
    },
    {
      "cell_type": "markdown",
      "metadata": {
        "id": "CJkrVqh8kpcI"
      },
      "source": [
        "<p style='text-align: right;'> 7 points</p>\n"
      ],
      "id": "CJkrVqh8kpcI"
    },
    {
      "cell_type": "code",
      "metadata": {
        "id": "brkLITSLkpcI"
      },
      "source": [
        "# code here\n",
        "sent = \"Coronavirus Caused Lockdowns Around The World.\""
      ],
      "id": "brkLITSLkpcI",
      "execution_count": 43,
      "outputs": []
    },
    {
      "cell_type": "markdown",
      "metadata": {
        "id": "th_r4MyCkpcJ"
      },
      "source": [
        "Use split function to convert the string into a list of words and save it in variable words and print the same"
      ],
      "id": "th_r4MyCkpcJ"
    },
    {
      "cell_type": "code",
      "metadata": {
        "id": "DiLl93wrkpcJ",
        "outputId": "80c53495-22a5-443c-fb88-b81366c15f02",
        "colab": {
          "base_uri": "https://localhost:8080/"
        }
      },
      "source": [
        "# code here\n",
        "words=sent.split()\n",
        "print(words)"
      ],
      "id": "DiLl93wrkpcJ",
      "execution_count": 44,
      "outputs": [
        {
          "output_type": "stream",
          "name": "stdout",
          "text": [
            "['Coronavirus', 'Caused', 'Lockdowns', 'Around', 'The', 'World.']\n"
          ]
        }
      ]
    },
    {
      "cell_type": "markdown",
      "metadata": {
        "id": "c-EXQ-3YkpcJ"
      },
      "source": [
        "Using list comprehensions, convert each word in the list to lower case and store it in variable words_lower. \n",
        "Print words_lower"
      ],
      "id": "c-EXQ-3YkpcJ"
    },
    {
      "cell_type": "code",
      "metadata": {
        "id": "qu9Wy0ORkpcJ",
        "outputId": "2f36fa1e-73f0-455a-cb95-f5948c3e2f09",
        "colab": {
          "base_uri": "https://localhost:8080/"
        }
      },
      "source": [
        "# code here\n",
        "words_lower=[wd.lower() for wd in words ]\n",
        "print(words_lower)"
      ],
      "id": "qu9Wy0ORkpcJ",
      "execution_count": 46,
      "outputs": [
        {
          "output_type": "stream",
          "name": "stdout",
          "text": [
            "['coronavirus', 'caused', 'lockdowns', 'around', 'the', 'world.']\n"
          ]
        }
      ]
    },
    {
      "cell_type": "markdown",
      "metadata": {
        "id": "6QbDnP8-kpcJ"
      },
      "source": [
        "Check whether ‘country’ is in the list"
      ],
      "id": "6QbDnP8-kpcJ"
    },
    {
      "cell_type": "code",
      "metadata": {
        "id": "pbj4S06jkpcJ",
        "outputId": "89e47f5c-2e47-426b-b101-f2e55160e36b",
        "colab": {
          "base_uri": "https://localhost:8080/"
        }
      },
      "source": [
        "# code here\n",
        "print(\"country\" in words_lower)"
      ],
      "id": "pbj4S06jkpcJ",
      "execution_count": 47,
      "outputs": [
        {
          "output_type": "stream",
          "name": "stdout",
          "text": [
            "False\n"
          ]
        }
      ]
    },
    {
      "cell_type": "markdown",
      "metadata": {
        "id": "-5bXQCY-kpcK"
      },
      "source": [
        "Remove the element ‘the’ from the list and print the list."
      ],
      "id": "-5bXQCY-kpcK"
    },
    {
      "cell_type": "code",
      "metadata": {
        "id": "TZ3w3rTNkpcK",
        "outputId": "4acf8204-dc85-4a97-941a-280ce04b6592",
        "colab": {
          "base_uri": "https://localhost:8080/"
        }
      },
      "source": [
        "# code here\n",
        "words_lower.remove('the')\n",
        "print(words_lower)"
      ],
      "id": "TZ3w3rTNkpcK",
      "execution_count": 48,
      "outputs": [
        {
          "output_type": "stream",
          "name": "stdout",
          "text": [
            "['coronavirus', 'caused', 'lockdowns', 'around', 'world.']\n"
          ]
        }
      ]
    },
    {
      "cell_type": "markdown",
      "metadata": {
        "id": "K2urIMaHkpcK"
      },
      "source": [
        "Select the first 4 words from the list words_lower using slicing and store them in a new variable x4"
      ],
      "id": "K2urIMaHkpcK"
    },
    {
      "cell_type": "code",
      "metadata": {
        "id": "hl9uTlnHkpcK"
      },
      "source": [
        "#code here\n",
        "x4=words_lower[:4]"
      ],
      "id": "hl9uTlnHkpcK",
      "execution_count": 49,
      "outputs": []
    },
    {
      "cell_type": "code",
      "metadata": {
        "id": "ATxw84QokpcK",
        "outputId": "2e313c84-709f-48a2-da5d-d60b6900c3f8",
        "colab": {
          "base_uri": "https://localhost:8080/"
        }
      },
      "source": [
        "# print x4\n",
        "print(x4)"
      ],
      "id": "ATxw84QokpcK",
      "execution_count": 50,
      "outputs": [
        {
          "output_type": "stream",
          "name": "stdout",
          "text": [
            "['coronavirus', 'caused', 'lockdowns', 'around']\n"
          ]
        }
      ]
    },
    {
      "cell_type": "markdown",
      "metadata": {
        "id": "40lbSur2kpcL"
      },
      "source": [
        "Convert the list of elements to single string using join function and print it"
      ],
      "id": "40lbSur2kpcL"
    },
    {
      "cell_type": "code",
      "metadata": {
        "id": "oeN_Eyb1kpcL",
        "outputId": "f01b252f-5c5f-4d3b-c350-8ee0453a5aae",
        "colab": {
          "base_uri": "https://localhost:8080/"
        }
      },
      "source": [
        "#code here\n",
        "print(' '.join(x4))"
      ],
      "id": "oeN_Eyb1kpcL",
      "execution_count": 52,
      "outputs": [
        {
          "output_type": "stream",
          "name": "stdout",
          "text": [
            "coronavirus caused lockdowns around\n"
          ]
        }
      ]
    },
    {
      "cell_type": "markdown",
      "metadata": {
        "id": "XlViORgBkpcL"
      },
      "source": [
        "## 2. Sets\n",
        "\n",
        "Reference:-https://www.youtube.com/watch?v=B7dPo44o5jA&list=PLsR_0x6BuM-GCc3iD6OQuEZHCAtYPmZfx&index=12\n"
      ],
      "id": "XlViORgBkpcL"
    },
    {
      "cell_type": "markdown",
      "metadata": {
        "id": "cGgxZPVhkpcL"
      },
      "source": [
        "#### 2.1. Create stud_grades = ['A','A','B','C','C','F']"
      ],
      "id": "cGgxZPVhkpcL"
    },
    {
      "cell_type": "markdown",
      "metadata": {
        "id": "vSfGcxrCkpcL"
      },
      "source": [
        "<p style='text-align: right;'> 7 points</p>\n"
      ],
      "id": "vSfGcxrCkpcL"
    },
    {
      "cell_type": "code",
      "metadata": {
        "id": "AszrelvIkpcL"
      },
      "source": [
        "#code here\n",
        "stud_grades = ['A','A','B','C','C','F']"
      ],
      "id": "AszrelvIkpcL",
      "execution_count": 53,
      "outputs": []
    },
    {
      "cell_type": "markdown",
      "metadata": {
        "id": "JbdWSm2EkpcM"
      },
      "source": [
        "Print the len of stud_grades"
      ],
      "id": "JbdWSm2EkpcM"
    },
    {
      "cell_type": "code",
      "metadata": {
        "id": "FJwWPNlckpcM",
        "outputId": "ce3345f3-2d9e-4854-9e71-871b7b4184af",
        "colab": {
          "base_uri": "https://localhost:8080/"
        }
      },
      "source": [
        "#code here\n",
        "print(len(stud_grades))"
      ],
      "id": "FJwWPNlckpcM",
      "execution_count": 54,
      "outputs": [
        {
          "output_type": "stream",
          "name": "stdout",
          "text": [
            "6\n"
          ]
        }
      ]
    },
    {
      "cell_type": "markdown",
      "metadata": {
        "id": "syIycmhykpcM"
      },
      "source": [
        "Create a new variable, stud_grades_set = set(stud_grades)"
      ],
      "id": "syIycmhykpcM"
    },
    {
      "cell_type": "code",
      "metadata": {
        "id": "h49VnI1MkpcM"
      },
      "source": [
        "#code here\n",
        "stud_grades_set = set(stud_grades)"
      ],
      "id": "h49VnI1MkpcM",
      "execution_count": 55,
      "outputs": []
    },
    {
      "cell_type": "markdown",
      "metadata": {
        "id": "AHG7h5i3kpcM"
      },
      "source": [
        "Print stud_grades_set. "
      ],
      "id": "AHG7h5i3kpcM"
    },
    {
      "cell_type": "code",
      "metadata": {
        "id": "qDZaqBhKkpcN",
        "outputId": "f5032f3d-6e10-41e3-b242-882f0e778ad2",
        "colab": {
          "base_uri": "https://localhost:8080/"
        }
      },
      "source": [
        "#code here\n",
        "print(stud_grades_set)"
      ],
      "id": "qDZaqBhKkpcN",
      "execution_count": 57,
      "outputs": [
        {
          "output_type": "stream",
          "name": "stdout",
          "text": [
            "{'C', 'F', 'B', 'A'}\n"
          ]
        }
      ]
    },
    {
      "cell_type": "markdown",
      "metadata": {
        "id": "Sniw3TCxkpcN"
      },
      "source": [
        "print the type of stud_grades and stud_grades_set and print their corresponding elements. Try to understand the difference between them."
      ],
      "id": "Sniw3TCxkpcN"
    },
    {
      "cell_type": "code",
      "metadata": {
        "id": "Ur2RvyqykpcN",
        "outputId": "22a95fa6-ff53-498f-8beb-5c549391fa20",
        "colab": {
          "base_uri": "https://localhost:8080/"
        }
      },
      "source": [
        "#code here\n",
        "print(type(stud_grades), stud_grades)\n",
        "print(type(stud_grades_set),stud_grades_set)"
      ],
      "id": "Ur2RvyqykpcN",
      "execution_count": 58,
      "outputs": [
        {
          "output_type": "stream",
          "name": "stdout",
          "text": [
            "<class 'list'> ['A', 'A', 'B', 'C', 'C', 'F']\n",
            "<class 'set'> {'C', 'F', 'B', 'A'}\n"
          ]
        }
      ]
    },
    {
      "cell_type": "markdown",
      "metadata": {
        "id": "Ppd3J-N1kpcN"
      },
      "source": [
        "Add a new element ‘G’ to stud_grades_set"
      ],
      "id": "Ppd3J-N1kpcN"
    },
    {
      "cell_type": "code",
      "metadata": {
        "id": "8hGYh9PEkpcN"
      },
      "source": [
        "#code here\n",
        "stud_grades_set.add('G')\n"
      ],
      "id": "8hGYh9PEkpcN",
      "execution_count": 60,
      "outputs": []
    },
    {
      "cell_type": "markdown",
      "metadata": {
        "id": "1Osvv21ekpcO"
      },
      "source": [
        "Add element 'F' to stud_grades_set. and print it."
      ],
      "id": "1Osvv21ekpcO"
    },
    {
      "cell_type": "code",
      "metadata": {
        "id": "Dd3eD4AgkpcO",
        "outputId": "e4ff966a-49cf-4107-a861-2853307def9b",
        "colab": {
          "base_uri": "https://localhost:8080/"
        }
      },
      "source": [
        "#code here\n",
        "stud_grades_set.add('F')\n",
        "print(stud_grades_set )"
      ],
      "id": "Dd3eD4AgkpcO",
      "execution_count": 61,
      "outputs": [
        {
          "output_type": "stream",
          "name": "stdout",
          "text": [
            "{'C', 'F', 'G', 'B', 'A'}\n"
          ]
        }
      ]
    },
    {
      "cell_type": "markdown",
      "metadata": {
        "id": "XClNoELikpcO"
      },
      "source": [
        "!!Did you notice? set doesn't add an element if it's already present in it, unlike lists."
      ],
      "id": "XClNoELikpcO"
    },
    {
      "cell_type": "markdown",
      "metadata": {
        "id": "A_9hFH6mkpcO"
      },
      "source": [
        "Remove ‘F’ from stud_grades_set"
      ],
      "id": "A_9hFH6mkpcO"
    },
    {
      "cell_type": "code",
      "metadata": {
        "id": "34ybEoh0kpcO"
      },
      "source": [
        "#code here\n",
        "\n",
        "stud_grades_set.remove('F')"
      ],
      "id": "34ybEoh0kpcO",
      "execution_count": 62,
      "outputs": []
    },
    {
      "cell_type": "markdown",
      "metadata": {
        "id": "FhW3HjejkpcO"
      },
      "source": [
        "Print the elements and the length of stud_grades_set"
      ],
      "id": "FhW3HjejkpcO"
    },
    {
      "cell_type": "code",
      "metadata": {
        "id": "PXFnKWdQkpcO",
        "outputId": "c56e3794-a838-4f76-86fe-2b129c3eca37",
        "colab": {
          "base_uri": "https://localhost:8080/"
        }
      },
      "source": [
        "#code here\n",
        "print(stud_grades_set)\n",
        "print(len(stud_grades_set))"
      ],
      "id": "PXFnKWdQkpcO",
      "execution_count": 63,
      "outputs": [
        {
          "output_type": "stream",
          "name": "stdout",
          "text": [
            "{'C', 'G', 'B', 'A'}\n",
            "4\n"
          ]
        }
      ]
    },
    {
      "cell_type": "markdown",
      "metadata": {
        "id": "N2f4etZWkpcP"
      },
      "source": [
        "#### 2.2. Create colors = [‘red’,’blue’,’orange’], and fruits = [‘orange’,’grapes’,’apples’] "
      ],
      "id": "N2f4etZWkpcP"
    },
    {
      "cell_type": "markdown",
      "metadata": {
        "id": "mtF1BdJ8kpcP"
      },
      "source": [
        "<p style='text-align: right;'> 6 points</p>\n"
      ],
      "id": "mtF1BdJ8kpcP"
    },
    {
      "cell_type": "code",
      "metadata": {
        "id": "58z0CT--kpcP"
      },
      "source": [
        "#code here\n",
        "colors = [\"red\",\"blue\",\"orange\"]\n",
        "fruits = [\"orange\",\"grapes\",\"apples\"]"
      ],
      "id": "58z0CT--kpcP",
      "execution_count": 65,
      "outputs": []
    },
    {
      "cell_type": "markdown",
      "metadata": {
        "id": "3uQeGFjOkpcP"
      },
      "source": [
        "Print color and fruits"
      ],
      "id": "3uQeGFjOkpcP"
    },
    {
      "cell_type": "code",
      "metadata": {
        "id": "IasMF-J8kpcP",
        "outputId": "ea8265e1-ed25-4135-c1b1-0681a69e1140",
        "colab": {
          "base_uri": "https://localhost:8080/"
        }
      },
      "source": [
        "#code here\n",
        "print(colors)\n",
        "print(fruits)"
      ],
      "id": "IasMF-J8kpcP",
      "execution_count": 66,
      "outputs": [
        {
          "output_type": "stream",
          "name": "stdout",
          "text": [
            "['red', 'blue', 'orange']\n",
            "['orange', 'grapes', 'apples']\n"
          ]
        }
      ]
    },
    {
      "cell_type": "markdown",
      "metadata": {
        "id": "MmbSJxhnkpcP"
      },
      "source": [
        "Create colors_set, and fruits_set. (using set() ) and print them"
      ],
      "id": "MmbSJxhnkpcP"
    },
    {
      "cell_type": "code",
      "metadata": {
        "id": "T46Fv-zGkpcP",
        "outputId": "06696075-39ea-4fe5-8e43-3efa3e50953a",
        "colab": {
          "base_uri": "https://localhost:8080/"
        }
      },
      "source": [
        "#code here\n",
        "colors_set=set(colors)\n",
        "fruits_set=set(fruits)\n",
        "print(colors_set)\n",
        "print(fruits_set)"
      ],
      "id": "T46Fv-zGkpcP",
      "execution_count": 68,
      "outputs": [
        {
          "output_type": "stream",
          "name": "stdout",
          "text": [
            "{'blue', 'red', 'orange'}\n",
            "{'grapes', 'orange', 'apples'}\n"
          ]
        }
      ]
    },
    {
      "cell_type": "markdown",
      "metadata": {
        "id": "I6A0suaSkpcQ"
      },
      "source": [
        "Find the union of both the sets."
      ],
      "id": "I6A0suaSkpcQ"
    },
    {
      "cell_type": "code",
      "metadata": {
        "id": "JDt7qEwTkpcQ",
        "outputId": "a581e156-acc4-4c9a-8de5-3ce51659ecf9",
        "colab": {
          "base_uri": "https://localhost:8080/"
        }
      },
      "source": [
        "#code here\n",
        "print(colors_set.union(fruits_set))\n"
      ],
      "id": "JDt7qEwTkpcQ",
      "execution_count": 69,
      "outputs": [
        {
          "output_type": "stream",
          "name": "stdout",
          "text": [
            "{'blue', 'apples', 'red', 'grapes', 'orange'}\n"
          ]
        }
      ]
    },
    {
      "cell_type": "markdown",
      "metadata": {
        "id": "bZZhTj5PkpcQ"
      },
      "source": [
        "Find the intersection of both the sets "
      ],
      "id": "bZZhTj5PkpcQ"
    },
    {
      "cell_type": "code",
      "metadata": {
        "id": "rfZTJlvKkpcQ",
        "outputId": "4a083042-1b36-4e63-d7f5-8817100ebfbb",
        "colab": {
          "base_uri": "https://localhost:8080/"
        }
      },
      "source": [
        "#code here\n",
        "print(colors_set.intersection(fruits_set))\n"
      ],
      "id": "rfZTJlvKkpcQ",
      "execution_count": 70,
      "outputs": [
        {
          "output_type": "stream",
          "name": "stdout",
          "text": [
            "{'orange'}\n"
          ]
        }
      ]
    },
    {
      "cell_type": "markdown",
      "metadata": {
        "id": "vmFkc4sXkpcR"
      },
      "source": [
        "Find the elements which are Fruits but not colors (using set.difference() )"
      ],
      "id": "vmFkc4sXkpcR"
    },
    {
      "cell_type": "code",
      "metadata": {
        "id": "UAE5Flv_kpcR",
        "outputId": "4bf0024c-9aae-4c84-e5d5-e31582fea1aa",
        "colab": {
          "base_uri": "https://localhost:8080/"
        }
      },
      "source": [
        "#code here\n",
        "print(fruits_set.difference(colors_set))\n"
      ],
      "id": "UAE5Flv_kpcR",
      "execution_count": 72,
      "outputs": [
        {
          "output_type": "stream",
          "name": "stdout",
          "text": [
            "{'grapes', 'apples'}\n"
          ]
        }
      ]
    },
    {
      "cell_type": "markdown",
      "metadata": {
        "id": "DivF-svekpcR"
      },
      "source": [
        "## 3. TUPLES\n",
        "\n",
        "Reference:-https://www.youtube.com/watch?v=aMGPLCzTvmE&list=PLsR_0x6BuM-GCc3iD6OQuEZHCAtYPmZfx&index=11\n"
      ],
      "id": "DivF-svekpcR"
    },
    {
      "cell_type": "markdown",
      "metadata": {
        "id": "1Amd7ICHkpcR"
      },
      "source": [
        "#### 3.1 . Create temp = [17, ’Virat’, 50.0]"
      ],
      "id": "1Amd7ICHkpcR"
    },
    {
      "cell_type": "markdown",
      "metadata": {
        "id": "dgG43IiWkpcR"
      },
      "source": [
        "<p style='text-align: right;'> 7 points</p>\n"
      ],
      "id": "dgG43IiWkpcR"
    },
    {
      "cell_type": "code",
      "metadata": {
        "id": "pCj4RYxPkpcR"
      },
      "source": [
        "#code here\n",
        "temp=[17,'Virat',50.0]\n",
        "\n"
      ],
      "id": "pCj4RYxPkpcR",
      "execution_count": 78,
      "outputs": []
    },
    {
      "cell_type": "markdown",
      "metadata": {
        "id": "vYVDWU0mkpcS"
      },
      "source": [
        "Iterate through temp and print all the items in temp"
      ],
      "id": "vYVDWU0mkpcS"
    },
    {
      "cell_type": "code",
      "metadata": {
        "id": "Abcx7FsQkpcS",
        "outputId": "1b3c90f2-e012-4341-84e4-7fc7e41b156e",
        "colab": {
          "base_uri": "https://localhost:8080/"
        }
      },
      "source": [
        "#code here\n",
        "for i in temp:\n",
        "  print(i)\n",
        "\n"
      ],
      "id": "Abcx7FsQkpcS",
      "execution_count": 79,
      "outputs": [
        {
          "output_type": "stream",
          "name": "stdout",
          "text": [
            "17\n",
            "Virat\n",
            "50.0\n"
          ]
        }
      ]
    },
    {
      "cell_type": "markdown",
      "metadata": {
        "id": "H8IYduIMkpcS"
      },
      "source": [
        "replace first element with 11 in temp"
      ],
      "id": "H8IYduIMkpcS"
    },
    {
      "cell_type": "code",
      "metadata": {
        "id": "_agIAaYokpcS"
      },
      "source": [
        "#code here\n",
        "temp[1]=11\n"
      ],
      "id": "_agIAaYokpcS",
      "execution_count": 75,
      "outputs": []
    },
    {
      "cell_type": "markdown",
      "metadata": {
        "id": "L65Zu5JOkpcS"
      },
      "source": [
        "Set temp1 = tuple(temp)"
      ],
      "id": "L65Zu5JOkpcS"
    },
    {
      "cell_type": "code",
      "metadata": {
        "id": "Lf_crs_FkpcS"
      },
      "source": [
        "#code here\n",
        "temp1= tuple(temp)\n"
      ],
      "id": "Lf_crs_FkpcS",
      "execution_count": 80,
      "outputs": []
    },
    {
      "cell_type": "markdown",
      "metadata": {
        "id": "W0_KvKjIkpcT"
      },
      "source": [
        "Iterate through temp1 and print all the items in temp1. "
      ],
      "id": "W0_KvKjIkpcT"
    },
    {
      "cell_type": "code",
      "metadata": {
        "id": "6GEPWeoAkpcT",
        "outputId": "7df9755e-8281-4223-a1d8-8c05a122608e",
        "colab": {
          "base_uri": "https://localhost:8080/"
        }
      },
      "source": [
        "#code here\n",
        "for i in temp1:\n",
        "  print(i)\n"
      ],
      "id": "6GEPWeoAkpcT",
      "execution_count": 81,
      "outputs": [
        {
          "output_type": "stream",
          "name": "stdout",
          "text": [
            "17\n",
            "Virat\n",
            "50.0\n"
          ]
        }
      ]
    },
    {
      "cell_type": "markdown",
      "metadata": {
        "id": "f9d9LXh8kpcU"
      },
      "source": [
        "replace first element with 17 in temp1"
      ],
      "id": "f9d9LXh8kpcU"
    },
    {
      "cell_type": "code",
      "metadata": {
        "id": "1IkxeChfkpcU",
        "outputId": "6f4ff764-6489-489d-f38d-6d2d9fd2a962",
        "colab": {
          "base_uri": "https://localhost:8080/",
          "height": 201
        }
      },
      "source": [
        "#code here\n",
        "\n",
        "temp1[0]=17"
      ],
      "id": "1IkxeChfkpcU",
      "execution_count": 82,
      "outputs": [
        {
          "output_type": "error",
          "ename": "TypeError",
          "evalue": "ignored",
          "traceback": [
            "\u001b[0;31m---------------------------------------------------------------------------\u001b[0m",
            "\u001b[0;31mTypeError\u001b[0m                                 Traceback (most recent call last)",
            "\u001b[0;32m<ipython-input-82-6b97b4ceb6e8>\u001b[0m in \u001b[0;36m<module>\u001b[0;34m()\u001b[0m\n\u001b[1;32m      1\u001b[0m \u001b[0;31m#code here\u001b[0m\u001b[0;34m\u001b[0m\u001b[0;34m\u001b[0m\u001b[0;34m\u001b[0m\u001b[0m\n\u001b[1;32m      2\u001b[0m \u001b[0;34m\u001b[0m\u001b[0m\n\u001b[0;32m----> 3\u001b[0;31m \u001b[0mtemp1\u001b[0m\u001b[0;34m[\u001b[0m\u001b[0;36m0\u001b[0m\u001b[0;34m]\u001b[0m\u001b[0;34m=\u001b[0m\u001b[0;36m17\u001b[0m\u001b[0;34m\u001b[0m\u001b[0;34m\u001b[0m\u001b[0m\n\u001b[0m",
            "\u001b[0;31mTypeError\u001b[0m: 'tuple' object does not support item assignment"
          ]
        }
      ]
    },
    {
      "cell_type": "markdown",
      "metadata": {
        "id": "YEFosZa1kpcV"
      },
      "source": [
        "<b>Oops!! You got an error. Hey Don't worry! Its because Once a tuple is created, you cannot change its values unlike list.</b>"
      ],
      "id": "YEFosZa1kpcV"
    },
    {
      "cell_type": "markdown",
      "metadata": {
        "id": "ykhpKlS8kpcV"
      },
      "source": [
        "#### 3.2 . Create city = (\"Bangalore\", 28.9949521, 72)"
      ],
      "id": "ykhpKlS8kpcV"
    },
    {
      "cell_type": "markdown",
      "metadata": {
        "id": "ODAigBgXkpcV"
      },
      "source": [
        "<p style='text-align: right;'> 6 points</p>\n"
      ],
      "id": "ODAigBgXkpcV"
    },
    {
      "cell_type": "code",
      "metadata": {
        "id": "WgGXPbe1kpcW"
      },
      "source": [
        "#code here\n",
        "city = (\"Bangalore\", 28.9949521, 72)\n"
      ],
      "id": "WgGXPbe1kpcW",
      "execution_count": 83,
      "outputs": []
    },
    {
      "cell_type": "markdown",
      "metadata": {
        "id": "DWPnWxz5kpcW"
      },
      "source": [
        "Print first element of city"
      ],
      "id": "DWPnWxz5kpcW"
    },
    {
      "cell_type": "code",
      "metadata": {
        "id": "dA6KeViMkpcW",
        "outputId": "c50b81e2-b1ef-4a90-8477-1f20fc6ab446",
        "colab": {
          "base_uri": "https://localhost:8080/"
        }
      },
      "source": [
        "#code here\n",
        "\n",
        "print(city[0])"
      ],
      "id": "dA6KeViMkpcW",
      "execution_count": 85,
      "outputs": [
        {
          "output_type": "stream",
          "name": "stdout",
          "text": [
            "Bangalore\n"
          ]
        }
      ]
    },
    {
      "cell_type": "markdown",
      "metadata": {
        "id": "pbsNXIF8kpcW"
      },
      "source": [
        "Create city2 = (‘Chennai’, 30.01, 74)"
      ],
      "id": "pbsNXIF8kpcW"
    },
    {
      "cell_type": "code",
      "metadata": {
        "id": "WUTjcdxJkpcW"
      },
      "source": [
        "#code here\n",
        "city2 = (\"Chennai\", 30.01, 74)\n"
      ],
      "id": "WUTjcdxJkpcW",
      "execution_count": 86,
      "outputs": []
    },
    {
      "cell_type": "markdown",
      "metadata": {
        "id": "3Dj0etmhkpcX"
      },
      "source": [
        "Create cities which consist of city and city2"
      ],
      "id": "3Dj0etmhkpcX"
    },
    {
      "cell_type": "code",
      "metadata": {
        "id": "fRwK84MzkpcX"
      },
      "source": [
        "#code here\n",
        "cities=(city,city2)\n"
      ],
      "id": "fRwK84MzkpcX",
      "execution_count": 87,
      "outputs": []
    },
    {
      "cell_type": "markdown",
      "metadata": {
        "id": "zS4zixR5kpcX"
      },
      "source": [
        "Print cities"
      ],
      "id": "zS4zixR5kpcX"
    },
    {
      "cell_type": "code",
      "metadata": {
        "id": "i7VaAI5SkpcX",
        "outputId": "a3e7d0dd-8f52-4323-dd74-19fd05955c99",
        "colab": {
          "base_uri": "https://localhost:8080/"
        }
      },
      "source": [
        "#code here\n",
        "print(cities)"
      ],
      "id": "i7VaAI5SkpcX",
      "execution_count": 88,
      "outputs": [
        {
          "output_type": "stream",
          "name": "stdout",
          "text": [
            "(('Bangalore', 28.9949521, 72), ('Chennai', 30.01, 74))\n"
          ]
        }
      ]
    },
    {
      "cell_type": "markdown",
      "metadata": {
        "id": "oXs492EmkpcX"
      },
      "source": [
        "Print type of first element in cities"
      ],
      "id": "oXs492EmkpcX"
    },
    {
      "cell_type": "code",
      "metadata": {
        "id": "09lrtqAvkpcX",
        "outputId": "de715a13-fa31-44be-fa84-dcbea94857c3",
        "colab": {
          "base_uri": "https://localhost:8080/"
        }
      },
      "source": [
        "#code here\n",
        "\n",
        "print(type(cities[0]))"
      ],
      "id": "09lrtqAvkpcX",
      "execution_count": 89,
      "outputs": [
        {
          "output_type": "stream",
          "name": "stdout",
          "text": [
            "<class 'tuple'>\n"
          ]
        }
      ]
    },
    {
      "cell_type": "markdown",
      "metadata": {
        "id": "na1P70SGkpcY"
      },
      "source": [
        "print the type of cities\n"
      ],
      "id": "na1P70SGkpcY"
    },
    {
      "cell_type": "code",
      "metadata": {
        "id": "3l0lToaXkpcY",
        "outputId": "1da95515-e9f8-4e30-bcbf-421660523f9b",
        "colab": {
          "base_uri": "https://localhost:8080/"
        }
      },
      "source": [
        "#code here\n",
        "print(type(cities))\n"
      ],
      "id": "3l0lToaXkpcY",
      "execution_count": 90,
      "outputs": [
        {
          "output_type": "stream",
          "name": "stdout",
          "text": [
            "<class 'tuple'>\n"
          ]
        }
      ]
    },
    {
      "cell_type": "markdown",
      "metadata": {
        "id": "66u3kIwvkpcY"
      },
      "source": [
        "Hey that implies you made a nested tuples!!"
      ],
      "id": "66u3kIwvkpcY"
    },
    {
      "cell_type": "markdown",
      "metadata": {
        "id": "9IPo71RPkpcY"
      },
      "source": [
        "## 4. DICT\n",
        "\n",
        "Reference:-https://www.youtube.com/watch?v=U3e-L1WSSzQ&list=PLsR_0x6BuM-GCc3iD6OQuEZHCAtYPmZfx&index=13\n"
      ],
      "id": "9IPo71RPkpcY"
    },
    {
      "cell_type": "markdown",
      "metadata": {
        "id": "nOnQGy06kpcY"
      },
      "source": [
        "<p style='text-align: right;'> 11 points</p>\n"
      ],
      "id": "nOnQGy06kpcY"
    },
    {
      "cell_type": "markdown",
      "metadata": {
        "id": "_D3WHJsMkpcZ"
      },
      "source": [
        "#### 4.1 Create a dictionary d = {\"actor\":\"amir\",\"animal\":\"cat\",\"earth\":2,\"list\":[23,32,12]}"
      ],
      "id": "_D3WHJsMkpcZ"
    },
    {
      "cell_type": "code",
      "metadata": {
        "id": "nQV3F4cTkpcZ"
      },
      "source": [
        "#code here\n",
        "d = {\"actor\":\"amir\",\"animal\":\"cat\",\"earth\":2,\"list\":[23,32,12]}\n"
      ],
      "id": "nQV3F4cTkpcZ",
      "execution_count": 91,
      "outputs": []
    },
    {
      "cell_type": "markdown",
      "metadata": {
        "id": "9XZ9f0amkpcZ"
      },
      "source": [
        "Print the value of d[0]"
      ],
      "id": "9XZ9f0amkpcZ"
    },
    {
      "cell_type": "code",
      "metadata": {
        "id": "VdZOj0bVkpcZ",
        "outputId": "c36f72a9-ce55-4983-ec3b-d3b1630ab490",
        "colab": {
          "base_uri": "https://localhost:8080/",
          "height": 183
        }
      },
      "source": [
        "#code here\n",
        "d[0]"
      ],
      "id": "VdZOj0bVkpcZ",
      "execution_count": 92,
      "outputs": [
        {
          "output_type": "error",
          "ename": "KeyError",
          "evalue": "ignored",
          "traceback": [
            "\u001b[0;31m---------------------------------------------------------------------------\u001b[0m",
            "\u001b[0;31mKeyError\u001b[0m                                  Traceback (most recent call last)",
            "\u001b[0;32m<ipython-input-92-a306cefea1b5>\u001b[0m in \u001b[0;36m<module>\u001b[0;34m()\u001b[0m\n\u001b[1;32m      1\u001b[0m \u001b[0;31m#code here\u001b[0m\u001b[0;34m\u001b[0m\u001b[0;34m\u001b[0m\u001b[0;34m\u001b[0m\u001b[0m\n\u001b[0;32m----> 2\u001b[0;31m \u001b[0md\u001b[0m\u001b[0;34m[\u001b[0m\u001b[0;36m0\u001b[0m\u001b[0;34m]\u001b[0m\u001b[0;34m\u001b[0m\u001b[0;34m\u001b[0m\u001b[0m\n\u001b[0m",
            "\u001b[0;31mKeyError\u001b[0m: 0"
          ]
        }
      ]
    },
    {
      "cell_type": "markdown",
      "metadata": {
        "id": "YnzshYWfkpcZ"
      },
      "source": [
        "<b>Oops!! again an error. again a fun fact. Dictionary return the value for key if key is in the dictionary, else throws KeyError\n",
        "and we don't have key 0 here :( </b>"
      ],
      "id": "YnzshYWfkpcZ"
    },
    {
      "cell_type": "markdown",
      "metadata": {
        "id": "seqtJ3HOkpca"
      },
      "source": [
        "Store the value of d[‘actor’] to a new variable actor."
      ],
      "id": "seqtJ3HOkpca"
    },
    {
      "cell_type": "code",
      "metadata": {
        "id": "Iy-ibjR-kpca"
      },
      "source": [
        "#code here\n",
        "actor=d['actor']\n"
      ],
      "id": "Iy-ibjR-kpca",
      "execution_count": 93,
      "outputs": []
    },
    {
      "cell_type": "markdown",
      "metadata": {
        "id": "3XspSdnykpca"
      },
      "source": [
        "Print the type of actor"
      ],
      "id": "3XspSdnykpca"
    },
    {
      "cell_type": "code",
      "metadata": {
        "id": "PeRcMuYHkpca",
        "outputId": "f637f6b2-24b9-4b1b-dcc1-6ec0857cfe9a",
        "colab": {
          "base_uri": "https://localhost:8080/"
        }
      },
      "source": [
        "#code here\n",
        "\n",
        "print(type(actor))"
      ],
      "id": "PeRcMuYHkpca",
      "execution_count": 94,
      "outputs": [
        {
          "output_type": "stream",
          "name": "stdout",
          "text": [
            "<class 'str'>\n"
          ]
        }
      ]
    },
    {
      "cell_type": "markdown",
      "metadata": {
        "id": "MeAKu0Y1kpca"
      },
      "source": [
        "Store the value of d[‘list’] in new variable l. "
      ],
      "id": "MeAKu0Y1kpca"
    },
    {
      "cell_type": "code",
      "metadata": {
        "id": "Z1PS0784kpca"
      },
      "source": [
        "#code here\n",
        "l=d['list']\n"
      ],
      "id": "Z1PS0784kpca",
      "execution_count": 95,
      "outputs": []
    },
    {
      "cell_type": "markdown",
      "metadata": {
        "id": "2-TgaLwtkpca"
      },
      "source": [
        "Print the type of l. "
      ],
      "id": "2-TgaLwtkpca"
    },
    {
      "cell_type": "code",
      "metadata": {
        "id": "D1LQcCj-kpcb",
        "outputId": "35d3eeb7-6e7c-4585-bbf6-23a42ce2436f",
        "colab": {
          "base_uri": "https://localhost:8080/"
        }
      },
      "source": [
        "#code here\n",
        "print(type(l))\n"
      ],
      "id": "D1LQcCj-kpcb",
      "execution_count": 97,
      "outputs": [
        {
          "output_type": "stream",
          "name": "stdout",
          "text": [
            "<class 'list'>\n"
          ]
        }
      ]
    },
    {
      "cell_type": "markdown",
      "metadata": {
        "id": "YxRwuHH6kpcb"
      },
      "source": [
        "Create d1 = { ‘singer’ : ‘Kr$na’ , ‘album’: ‘Still here’, ‘genre’ : ‘hip-hop’}"
      ],
      "id": "YxRwuHH6kpcb"
    },
    {
      "cell_type": "code",
      "metadata": {
        "id": "VZBmqqDvkpcb"
      },
      "source": [
        "#code here\n",
        "d1 = { \"singer\" : \"Kr$na\" , \"album\": \"Still here\", \"genre\" : \"hip-hop\"}\n"
      ],
      "id": "VZBmqqDvkpcb",
      "execution_count": 99,
      "outputs": []
    },
    {
      "cell_type": "markdown",
      "metadata": {
        "id": "tZ2jSPPRkpcb"
      },
      "source": [
        "Merge d1 into d."
      ],
      "id": "tZ2jSPPRkpcb"
    },
    {
      "cell_type": "code",
      "metadata": {
        "id": "ydfvA3s4kpcb"
      },
      "source": [
        "#code here\n",
        "d.update(d1)\n"
      ],
      "id": "ydfvA3s4kpcb",
      "execution_count": 100,
      "outputs": []
    },
    {
      "cell_type": "markdown",
      "metadata": {
        "id": "GNNBXz-Pkpcb"
      },
      "source": [
        "print d"
      ],
      "id": "GNNBXz-Pkpcb"
    },
    {
      "cell_type": "code",
      "metadata": {
        "id": "fZ_SizwPkpcc",
        "outputId": "38e3ae0c-28ea-4d28-fb11-6b2cbbf15112",
        "colab": {
          "base_uri": "https://localhost:8080/"
        }
      },
      "source": [
        "#code here\n",
        "\n",
        "d"
      ],
      "id": "fZ_SizwPkpcc",
      "execution_count": 102,
      "outputs": [
        {
          "output_type": "execute_result",
          "data": {
            "text/plain": [
              "{'actor': 'amir',\n",
              " 'album': 'Still here',\n",
              " 'animal': 'cat',\n",
              " 'earth': 2,\n",
              " 'genre': 'hip-hop',\n",
              " 'list': [23, 32, 12],\n",
              " 'singer': 'Kr$na'}"
            ]
          },
          "metadata": {},
          "execution_count": 102
        }
      ]
    },
    {
      "cell_type": "markdown",
      "metadata": {
        "id": "bkjF0mNckpcc"
      },
      "source": [
        "Print all the keys in d"
      ],
      "id": "bkjF0mNckpcc"
    },
    {
      "cell_type": "code",
      "metadata": {
        "id": "RgTiM-1Gkpcc",
        "outputId": "ce033fe6-6045-4ffc-c230-37abb71d9d3b",
        "colab": {
          "base_uri": "https://localhost:8080/"
        }
      },
      "source": [
        "#code here\n",
        "print(d.keys())"
      ],
      "id": "RgTiM-1Gkpcc",
      "execution_count": 103,
      "outputs": [
        {
          "output_type": "stream",
          "name": "stdout",
          "text": [
            "dict_keys(['actor', 'animal', 'earth', 'list', 'singer', 'album', 'genre'])\n"
          ]
        }
      ]
    },
    {
      "cell_type": "markdown",
      "metadata": {
        "id": "HeqJs6sfkpcc"
      },
      "source": [
        "Print all the values in d"
      ],
      "id": "HeqJs6sfkpcc"
    },
    {
      "cell_type": "code",
      "metadata": {
        "id": "lS9DRpPZkpcc",
        "outputId": "d0dae158-fdba-47bf-d1b9-6efe90a69ea7",
        "colab": {
          "base_uri": "https://localhost:8080/"
        }
      },
      "source": [
        "#code here\n",
        "\n",
        "print(d.values())"
      ],
      "id": "lS9DRpPZkpcc",
      "execution_count": 104,
      "outputs": [
        {
          "output_type": "stream",
          "name": "stdout",
          "text": [
            "dict_values(['amir', 'cat', 2, [23, 32, 12], 'Kr$na', 'Still here', 'hip-hop'])\n"
          ]
        }
      ]
    },
    {
      "cell_type": "markdown",
      "metadata": {
        "id": "AvMDYUh2kpcc"
      },
      "source": [
        "Iterate over d, and print each key, value pair as given in output"
      ],
      "id": "AvMDYUh2kpcc"
    },
    {
      "cell_type": "code",
      "metadata": {
        "id": "UIGPHLApkpcd",
        "outputId": "8e613439-fcf6-427d-9b9e-826ef3858585",
        "colab": {
          "base_uri": "https://localhost:8080/"
        }
      },
      "source": [
        "#code here\n",
        "for keys,values in d.items():\n",
        "  print(keys,' ----> ',values)\n"
      ],
      "id": "UIGPHLApkpcd",
      "execution_count": 106,
      "outputs": [
        {
          "output_type": "stream",
          "name": "stdout",
          "text": [
            "actor  ---->  amir\n",
            "animal  ---->  cat\n",
            "earth  ---->  2\n",
            "list  ---->  [23, 32, 12]\n",
            "singer  ---->  Kr$na\n",
            "album  ---->  Still here\n",
            "genre  ---->  hip-hop\n"
          ]
        }
      ]
    },
    {
      "cell_type": "markdown",
      "metadata": {
        "id": "sHcM8rF0kpcd"
      },
      "source": [
        "\n",
        "Create a string, sent = ‘Coronavirus Caused Lockdowns Around The World.”\n",
        "\n",
        "Count the number of occurences of charachters in string named \"sent\" using dictionary and print the same.\n"
      ],
      "id": "sHcM8rF0kpcd"
    },
    {
      "cell_type": "code",
      "metadata": {
        "id": "DmpLDa2vkpcd",
        "outputId": "9bf1b6be-5df7-4d8a-9489-43aa981cbd36",
        "colab": {
          "base_uri": "https://localhost:8080/"
        }
      },
      "source": [
        "#code here\n",
        "\n",
        "sent = \"Coronavirus Caused Lockdowns Around The World.\"\n",
        "d={}\n",
        "for i in sent:\n",
        "  if(i in d):\n",
        "    d[i]+=1\n",
        "  else:\n",
        "    d[i]=1\n",
        "d"
      ],
      "id": "DmpLDa2vkpcd",
      "execution_count": 110,
      "outputs": [
        {
          "output_type": "execute_result",
          "data": {
            "text/plain": [
              "{' ': 5,\n",
              " '.': 1,\n",
              " 'A': 1,\n",
              " 'C': 2,\n",
              " 'L': 1,\n",
              " 'T': 1,\n",
              " 'W': 1,\n",
              " 'a': 2,\n",
              " 'c': 1,\n",
              " 'd': 4,\n",
              " 'e': 2,\n",
              " 'h': 1,\n",
              " 'i': 1,\n",
              " 'k': 1,\n",
              " 'l': 1,\n",
              " 'n': 3,\n",
              " 'o': 6,\n",
              " 'r': 4,\n",
              " 's': 3,\n",
              " 'u': 3,\n",
              " 'v': 1,\n",
              " 'w': 1}"
            ]
          },
          "metadata": {},
          "execution_count": 110
        }
      ]
    },
    {
      "cell_type": "markdown",
      "metadata": {
        "id": "b-ESQmrKkpcd"
      },
      "source": [
        "# --------------------------------------------------------------------"
      ],
      "id": "b-ESQmrKkpcd"
    },
    {
      "cell_type": "markdown",
      "metadata": {
        "id": "dxIz_yvZkpcd"
      },
      "source": [
        "# Hurray!! Second milestone completed. The next challenge is waiting for you :)\n",
        "\n",
        "# --------------------------------------------------------------------\n",
        "\n",
        "-----------------\n",
        "# FeedBack\n",
        "We hope you’ve enjoyed this course so far. We’re committed to help you use \"AI for All\" course to its full potential, so that you have a great learning experience. And that’s why we need your help in form of a feedback here.\n",
        "\n",
        "Please fill this feedback form  https://zfrmz.in/MtRG5oWXBdesm6rmSM7N"
      ],
      "id": "dxIz_yvZkpcd"
    }
  ]
}